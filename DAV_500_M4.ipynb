{
  "nbformat": 4,
  "nbformat_minor": 0,
  "metadata": {
    "colab": {
      "provenance": [],
      "authorship_tag": "ABX9TyNSkJrJM6aH+9Wdkj0EQpFB",
      "include_colab_link": true
    },
    "kernelspec": {
      "name": "python3",
      "display_name": "Python 3"
    },
    "language_info": {
      "name": "python"
    }
  },
  "cells": [
    {
      "cell_type": "markdown",
      "metadata": {
        "id": "view-in-github",
        "colab_type": "text"
      },
      "source": [
        "<a href=\"https://colab.research.google.com/github/srikanth1998/DAV-5400/blob/master/DAV_500_M4.ipynb\" target=\"_parent\"><img src=\"https://colab.research.google.com/assets/colab-badge.svg\" alt=\"Open In Colab\"/></a>"
      ]
    },
    {
      "cell_type": "markdown",
      "source": [
        "**DAV 5400 Module 4 Assignment**\n",
        "\n",
        "**Srikanth Burra**"
      ],
      "metadata": {
        "id": "u32l-23wlYXI"
      }
    },
    {
      "cell_type": "code",
      "execution_count": null,
      "metadata": {
        "colab": {
          "base_uri": "https://localhost:8080/"
        },
        "id": "WWP5dLvkrcSb",
        "outputId": "340a25f7-f047-46b1-f6b5-158fbd81896c"
      },
      "outputs": [
        {
          "output_type": "stream",
          "name": "stdout",
          "text": [
            "Mounted at /content/drive\n"
          ]
        }
      ],
      "source": [
        "from google.colab import drive\n",
        "drive.mount('/content/drive')"
      ]
    },
    {
      "cell_type": "markdown",
      "source": [
        "**1. (5 Points) Write a Python/NumPy code block that finds the distinct/unique common items between these two arrays:**"
      ],
      "metadata": {
        "id": "F6cvvSRojGab"
      }
    },
    {
      "cell_type": "code",
      "source": [
        "#NumPy is a library for the Python programming language, adding support for large, multi-dimensional arrays and \n",
        "#matrices, along with a large collection of high-level mathematical functions to operate on these arrays. \n",
        "import numpy as np\n",
        "\n",
        "#Adding elements to an array\n",
        "a = np.array([1,2,3,2,3,4,3,4,5,6])\n",
        "b = np.array([7,2,10,2,7,4,9,4,9,8])\n",
        "\n",
        "#intersect1d() in numpy return the sorted, unique values that are in both of the input arrays.\n",
        "#printing the result\n",
        "print(np.intersect1d(a, b))"
      ],
      "metadata": {
        "colab": {
          "base_uri": "https://localhost:8080/"
        },
        "id": "CUgdjSn9sUnM",
        "outputId": "d8d1b4eb-8292-43d9-e312-938a7eb7660f"
      },
      "execution_count": null,
      "outputs": [
        {
          "output_type": "stream",
          "name": "stdout",
          "text": [
            "[2 4]\n"
          ]
        }
      ]
    },
    {
      "cell_type": "markdown",
      "source": [
        "**2. (5 Points) Create the following 5x3 array using knowledge you have of Python’s / NumPy’s sequencing functionality\n",
        "so that you do not need to explicitly key in every integer value.**"
      ],
      "metadata": {
        "id": "FX4MuuCajJT8"
      }
    },
    {
      "cell_type": "code",
      "source": [
        "#arrange() function takes range of parameters\n",
        "#reshape() function gives a new shape to an array without changing its data.\n",
        "arr = np.arange(1,16).reshape(3,5)\n",
        "\n",
        "#Transpsing the array gives the required result\n",
        "arr1 = arr.T\n",
        "\n",
        "#printing hte array\n",
        "arr1\n"
      ],
      "metadata": {
        "colab": {
          "base_uri": "https://localhost:8080/"
        },
        "id": "mfJQpsent1Vy",
        "outputId": "1b94a44a-42a3-4399-a54e-ab76f61163fc"
      },
      "execution_count": null,
      "outputs": [
        {
          "output_type": "execute_result",
          "data": {
            "text/plain": [
              "array([[ 1,  6, 11],\n",
              "       [ 2,  7, 12],\n",
              "       [ 3,  8, 13],\n",
              "       [ 4,  9, 14],\n",
              "       [ 5, 10, 15]])"
            ]
          },
          "metadata": {},
          "execution_count": 89
        }
      ]
    },
    {
      "cell_type": "markdown",
      "source": [
        "**3. (5 Points) You are given the following two arrays:\n",
        "a = np.array([12, 5, 7, 15, 3, 1, 8])\n",
        "b = np.array([14, 6, 3, 11, 19, 12, 5])\n",
        "Write a Python/Numpy code block that removes from array a any items that are also present in array b**"
      ],
      "metadata": {
        "id": "W9LZBNOKjkHo"
      }
    },
    {
      "cell_type": "code",
      "source": [
        "#creating two diffrent arrays\n",
        "a = np.array([12, 5, 7, 15, 3, 1, 8])\n",
        "b = np.array([14, 6, 3, 11, 19, 12, 5])\n",
        "\n",
        "#The difference() method computes the difference of two sets and returns items that are unique to the first set.\n",
        "print(set(a).difference(b))"
      ],
      "metadata": {
        "colab": {
          "base_uri": "https://localhost:8080/"
        },
        "id": "ifjsixkbuwv9",
        "outputId": "e1881e4a-5517-40b9-cb5b-3917c8227e91"
      },
      "execution_count": null,
      "outputs": [
        {
          "output_type": "stream",
          "name": "stdout",
          "text": [
            "{1, 7, 8, 15}\n"
          ]
        }
      ]
    },
    {
      "cell_type": "markdown",
      "source": [
        "**4. (7 Points) The process of transforming a multidimensional array into a unidimensional array is referred to as\n",
        "“flattening”. Transform the 5x3 array shown above in Problem 2 into a unidimensional array such that the sequence of\n",
        "values contained within the array is as follows: 1, 2, 3, 4, 5, 6, 7, 8, 9, 10, 11, 12, 13, 14, 15**\n"
      ],
      "metadata": {
        "id": "XF0P-pm5jnb-"
      }
    },
    {
      "cell_type": "code",
      "source": [
        "#The flatten() function is used to get a copy of an given array collapsed into one dimension. \n",
        "#tolist() is a function used to convert array to list\n",
        "num_list = arr.flatten().tolist()\n",
        "print(num_list)"
      ],
      "metadata": {
        "colab": {
          "base_uri": "https://localhost:8080/"
        },
        "id": "0_lK7ckEv8CC",
        "outputId": "87575dca-cee2-4207-932f-6a356ebb9dfa"
      },
      "execution_count": null,
      "outputs": [
        {
          "output_type": "stream",
          "name": "stdout",
          "text": [
            "[1, 2, 3, 4, 5, 6, 7, 8, 9, 10, 11, 12, 13, 14, 15]\n"
          ]
        }
      ]
    },
    {
      "cell_type": "markdown",
      "source": [
        "**5. (8 Points) For this problem you will load a small data set to your online GitHub repository and then read it into a\n",
        "NumPy 2D array. You will then use the content that NumPy array to answer a series of analytical questions.**"
      ],
      "metadata": {
        "id": "8v2SxEGHjx1e"
      }
    },
    {
      "cell_type": "code",
      "source": [
        "# suppress scientific notation\n",
        "np.set_printoptions(suppress = True)\n",
        "\n",
        "# read the data file from GitHub and convert to a NumPy ndarray object\n",
        "# be sure to replace the ‘link_to_raw_copy of data file in your Github Repository’ placeholder shown below\n",
        "# with a link to the “raw” version of the file you pushed to your online GitHub repository\n",
        "nyc_water = pandas.read_csv('https://raw.githubusercontent.com/srikanth1998/DAV-5400/master/M3_Data.csv').to_numpy()\n",
        "\n",
        "# verify you have an ndarray object\n",
        "type(nyc_water)\n",
        "\n",
        "\n"
      ],
      "metadata": {
        "colab": {
          "base_uri": "https://localhost:8080/"
        },
        "id": "7neO6Uuhwxoe",
        "outputId": "f8c632da-a462-4c5a-b225-d027baf29599"
      },
      "execution_count": null,
      "outputs": [
        {
          "output_type": "execute_result",
          "data": {
            "text/plain": [
              "numpy.ndarray"
            ]
          },
          "metadata": {},
          "execution_count": 90
        }
      ]
    },
    {
      "cell_type": "markdown",
      "source": [
        "**5a What is the maximum yearly NYC consumption of water in millions of gallons per day?**\n"
      ],
      "metadata": {
        "id": "0VnMmv3Lj7k7"
      }
    },
    {
      "cell_type": "code",
      "source": [
        "#Traversing through 2nd index column and finding max value from it\n",
        "#[ : , : ]left side of ',' resembels rows and right side of ',' resembles columns\n",
        "nyc_water[:,2].max()\n"
      ],
      "metadata": {
        "colab": {
          "base_uri": "https://localhost:8080/"
        },
        "id": "-JXGi_Wlziwb",
        "outputId": "79ae57d9-be83-432d-8752-d04fed8bbddc"
      },
      "execution_count": null,
      "outputs": [
        {
          "output_type": "execute_result",
          "data": {
            "text/plain": [
              "1512.0"
            ]
          },
          "metadata": {},
          "execution_count": 91
        }
      ]
    },
    {
      "cell_type": "markdown",
      "source": [
        "**5b How many calendar years are represented within this data set? NumPy's shape command is one way to find\n",
        "out.**"
      ],
      "metadata": {
        "id": "Jez80pPFkuUs"
      }
    },
    {
      "cell_type": "code",
      "source": [
        "#shape function in numpy give the size of the array\n",
        "#index indentify the column\n",
        "#counting the ros in first column\n",
        "np.shape(nyc_water)[0]\n"
      ],
      "metadata": {
        "colab": {
          "base_uri": "https://localhost:8080/"
        },
        "id": "KuF4SKSB1p_j",
        "outputId": "d5767ef6-c1d4-4dfa-abc0-4c33512613c4"
      },
      "execution_count": null,
      "outputs": [
        {
          "output_type": "execute_result",
          "data": {
            "text/plain": [
              "41"
            ]
          },
          "metadata": {},
          "execution_count": 92
        }
      ]
    },
    {
      "cell_type": "markdown",
      "source": [
        "**5c What is the mean and the standard deviation of the per capita daily water consumption?**"
      ],
      "metadata": {
        "id": "2UZCOO9lk0Rz"
      }
    },
    {
      "cell_type": "code",
      "source": [
        "#mean() is an internal function in numpy to find mean of the column values\n",
        "mean = np.mean(nyc_water[:,3])\n",
        "\n",
        "#standard_deviation() is an internal function in numpy to find standard_deviation of the column values\n",
        "std = np.std(nyc_water[:,3])\n",
        "\n",
        "#printing mean and standard_deviation values\n",
        "print('mean of ',mean)\n",
        "print('standard deviation of',std)"
      ],
      "metadata": {
        "colab": {
          "base_uri": "https://localhost:8080/"
        },
        "id": "owpoqWVV4AAm",
        "outputId": "875f26b3-92a5-48b5-af1a-02e8410d7244"
      },
      "execution_count": null,
      "outputs": [
        {
          "output_type": "stream",
          "name": "stdout",
          "text": [
            "mean of  158.41463414634146\n",
            "standard deviation of 31.847177467886052\n"
          ]
        }
      ]
    },
    {
      "cell_type": "markdown",
      "source": [
        "**5d  What is the increase or decrease in population from year to year? Use NumPy's `diff` function to create an array\n",
        "of differences and save that to a variable called \"pop_diff\", then print that variable to the screen.**"
      ],
      "metadata": {
        "id": "Fak_ihknk93Z"
      }
    },
    {
      "cell_type": "code",
      "source": [
        "#diff function on numpy gives the difference between calues in an array with a given column\n",
        "pop_diff = np.diff(nyc_water[:,1])\n",
        "pop_diff"
      ],
      "metadata": {
        "colab": {
          "base_uri": "https://localhost:8080/"
        },
        "id": "2Vy9BYSsQ0Gs",
        "outputId": "e51ec28f-948c-4523-806a-8f5ecee6127b"
      },
      "execution_count": null,
      "outputs": [
        {
          "output_type": "execute_result",
          "data": {
            "text/plain": [
              "array([-30461. ,  17602. ,  19864. ,  72119. ,  53290. ,  39540. ,\n",
              "        45192. ,  23230. ,  11243. ,  -9544. ,  -8525. ,  38851. ,\n",
              "        54443. ,  77222. ,  64292. ,  62582. ,  64772. ,  75631. ,\n",
              "        84816. ,  89401. ,  60618. ,  16685.5,  16685.5,  16685.5,\n",
              "        16685.5,  16685.5,  16685.5,  16685.5,  16685.5,  16685.5,\n",
              "        16685.5,  97830. ,  75069. ,  50707. ,  38648. ,  30794. ,\n",
              "         7795. , -37705. , -39523. , -61931. ])"
            ]
          },
          "metadata": {},
          "execution_count": 94
        }
      ]
    }
  ]
}