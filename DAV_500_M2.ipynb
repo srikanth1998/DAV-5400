{
  "nbformat": 4,
  "nbformat_minor": 0,
  "metadata": {
    "colab": {
      "provenance": [],
      "collapsed_sections": [],
      "authorship_tag": "ABX9TyMdqeEB9j42wzCcC0sBZ6vr",
      "include_colab_link": true
    },
    "kernelspec": {
      "name": "python3",
      "display_name": "Python 3"
    },
    "language_info": {
      "name": "python"
    }
  },
  "cells": [
    {
      "cell_type": "markdown",
      "metadata": {
        "id": "view-in-github",
        "colab_type": "text"
      },
      "source": [
        "<a href=\"https://colab.research.google.com/github/srikanth1998/DAV-5400/blob/master/DAV_500_M2.ipynb\" target=\"_parent\"><img src=\"https://colab.research.google.com/assets/colab-badge.svg\" alt=\"Open In Colab\"/></a>"
      ]
    },
    {
      "cell_type": "markdown",
      "source": [
        "**DAV 5400 Module 2 Assignment**\n",
        "\n",
        "**Srikanth Burra**"
      ],
      "metadata": {
        "id": "e0-OBUsEJRLo"
      }
    },
    {
      "cell_type": "code",
      "execution_count": null,
      "metadata": {
        "colab": {
          "base_uri": "https://localhost:8080/"
        },
        "id": "kxvSNmZMcRW1",
        "outputId": "0460dc73-97b0-4982-accb-66f02af09e84"
      },
      "outputs": [
        {
          "output_type": "stream",
          "name": "stdout",
          "text": [
            "Mounted at /content/drive\n"
          ]
        }
      ],
      "source": [
        "from google.colab import drive\n",
        "drive.mount('/content/drive')"
      ]
    },
    {
      "cell_type": "code",
      "source": [
        "\n",
        "import pandas as pd\n",
        "import numpy as np\n",
        "\n",
        "#loading txt file from drive\n",
        "df = pd.read_csv('/content/drive/My Drive/cars-sample35.txt')\n",
        "\n",
        "#converting txt file to CSV \n",
        "df.to_csv('cars.csv',index = None)\n",
        "df.head()\n",
        "\n"
      ],
      "metadata": {
        "id": "f4R2PMzYelOj",
        "colab": {
          "base_uri": "https://localhost:8080/",
          "height": 206
        },
        "outputId": "98fe9b74-032b-4875-db23-f81b8b2c2264"
      },
      "execution_count": null,
      "outputs": [
        {
          "output_type": "execute_result",
          "data": {
            "text/plain": [
              "    high high.1  2     4    med   low  unacc\n",
              "0   high   high  4  more  small  high    acc\n",
              "1   high   high  4  more    big   low  unacc\n",
              "2   high    low  2  more    big  high    acc\n",
              "3  vhigh    low  3     2    med   med  unacc\n",
              "4    low   high  2     2  small   low  unacc"
            ],
            "text/html": [
              "\n",
              "  <div id=\"df-030f4b02-de05-4308-acb3-b078f6f653af\">\n",
              "    <div class=\"colab-df-container\">\n",
              "      <div>\n",
              "<style scoped>\n",
              "    .dataframe tbody tr th:only-of-type {\n",
              "        vertical-align: middle;\n",
              "    }\n",
              "\n",
              "    .dataframe tbody tr th {\n",
              "        vertical-align: top;\n",
              "    }\n",
              "\n",
              "    .dataframe thead th {\n",
              "        text-align: right;\n",
              "    }\n",
              "</style>\n",
              "<table border=\"1\" class=\"dataframe\">\n",
              "  <thead>\n",
              "    <tr style=\"text-align: right;\">\n",
              "      <th></th>\n",
              "      <th>high</th>\n",
              "      <th>high.1</th>\n",
              "      <th>2</th>\n",
              "      <th>4</th>\n",
              "      <th>med</th>\n",
              "      <th>low</th>\n",
              "      <th>unacc</th>\n",
              "    </tr>\n",
              "  </thead>\n",
              "  <tbody>\n",
              "    <tr>\n",
              "      <th>0</th>\n",
              "      <td>high</td>\n",
              "      <td>high</td>\n",
              "      <td>4</td>\n",
              "      <td>more</td>\n",
              "      <td>small</td>\n",
              "      <td>high</td>\n",
              "      <td>acc</td>\n",
              "    </tr>\n",
              "    <tr>\n",
              "      <th>1</th>\n",
              "      <td>high</td>\n",
              "      <td>high</td>\n",
              "      <td>4</td>\n",
              "      <td>more</td>\n",
              "      <td>big</td>\n",
              "      <td>low</td>\n",
              "      <td>unacc</td>\n",
              "    </tr>\n",
              "    <tr>\n",
              "      <th>2</th>\n",
              "      <td>high</td>\n",
              "      <td>low</td>\n",
              "      <td>2</td>\n",
              "      <td>more</td>\n",
              "      <td>big</td>\n",
              "      <td>high</td>\n",
              "      <td>acc</td>\n",
              "    </tr>\n",
              "    <tr>\n",
              "      <th>3</th>\n",
              "      <td>vhigh</td>\n",
              "      <td>low</td>\n",
              "      <td>3</td>\n",
              "      <td>2</td>\n",
              "      <td>med</td>\n",
              "      <td>med</td>\n",
              "      <td>unacc</td>\n",
              "    </tr>\n",
              "    <tr>\n",
              "      <th>4</th>\n",
              "      <td>low</td>\n",
              "      <td>high</td>\n",
              "      <td>2</td>\n",
              "      <td>2</td>\n",
              "      <td>small</td>\n",
              "      <td>low</td>\n",
              "      <td>unacc</td>\n",
              "    </tr>\n",
              "  </tbody>\n",
              "</table>\n",
              "</div>\n",
              "      <button class=\"colab-df-convert\" onclick=\"convertToInteractive('df-030f4b02-de05-4308-acb3-b078f6f653af')\"\n",
              "              title=\"Convert this dataframe to an interactive table.\"\n",
              "              style=\"display:none;\">\n",
              "        \n",
              "  <svg xmlns=\"http://www.w3.org/2000/svg\" height=\"24px\"viewBox=\"0 0 24 24\"\n",
              "       width=\"24px\">\n",
              "    <path d=\"M0 0h24v24H0V0z\" fill=\"none\"/>\n",
              "    <path d=\"M18.56 5.44l.94 2.06.94-2.06 2.06-.94-2.06-.94-.94-2.06-.94 2.06-2.06.94zm-11 1L8.5 8.5l.94-2.06 2.06-.94-2.06-.94L8.5 2.5l-.94 2.06-2.06.94zm10 10l.94 2.06.94-2.06 2.06-.94-2.06-.94-.94-2.06-.94 2.06-2.06.94z\"/><path d=\"M17.41 7.96l-1.37-1.37c-.4-.4-.92-.59-1.43-.59-.52 0-1.04.2-1.43.59L10.3 9.45l-7.72 7.72c-.78.78-.78 2.05 0 2.83L4 21.41c.39.39.9.59 1.41.59.51 0 1.02-.2 1.41-.59l7.78-7.78 2.81-2.81c.8-.78.8-2.07 0-2.86zM5.41 20L4 18.59l7.72-7.72 1.47 1.35L5.41 20z\"/>\n",
              "  </svg>\n",
              "      </button>\n",
              "      \n",
              "  <style>\n",
              "    .colab-df-container {\n",
              "      display:flex;\n",
              "      flex-wrap:wrap;\n",
              "      gap: 12px;\n",
              "    }\n",
              "\n",
              "    .colab-df-convert {\n",
              "      background-color: #E8F0FE;\n",
              "      border: none;\n",
              "      border-radius: 50%;\n",
              "      cursor: pointer;\n",
              "      display: none;\n",
              "      fill: #1967D2;\n",
              "      height: 32px;\n",
              "      padding: 0 0 0 0;\n",
              "      width: 32px;\n",
              "    }\n",
              "\n",
              "    .colab-df-convert:hover {\n",
              "      background-color: #E2EBFA;\n",
              "      box-shadow: 0px 1px 2px rgba(60, 64, 67, 0.3), 0px 1px 3px 1px rgba(60, 64, 67, 0.15);\n",
              "      fill: #174EA6;\n",
              "    }\n",
              "\n",
              "    [theme=dark] .colab-df-convert {\n",
              "      background-color: #3B4455;\n",
              "      fill: #D2E3FC;\n",
              "    }\n",
              "\n",
              "    [theme=dark] .colab-df-convert:hover {\n",
              "      background-color: #434B5C;\n",
              "      box-shadow: 0px 1px 3px 1px rgba(0, 0, 0, 0.15);\n",
              "      filter: drop-shadow(0px 1px 2px rgba(0, 0, 0, 0.3));\n",
              "      fill: #FFFFFF;\n",
              "    }\n",
              "  </style>\n",
              "\n",
              "      <script>\n",
              "        const buttonEl =\n",
              "          document.querySelector('#df-030f4b02-de05-4308-acb3-b078f6f653af button.colab-df-convert');\n",
              "        buttonEl.style.display =\n",
              "          google.colab.kernel.accessAllowed ? 'block' : 'none';\n",
              "\n",
              "        async function convertToInteractive(key) {\n",
              "          const element = document.querySelector('#df-030f4b02-de05-4308-acb3-b078f6f653af');\n",
              "          const dataTable =\n",
              "            await google.colab.kernel.invokeFunction('convertToInteractive',\n",
              "                                                     [key], {});\n",
              "          if (!dataTable) return;\n",
              "\n",
              "          const docLinkHtml = 'Like what you see? Visit the ' +\n",
              "            '<a target=\"_blank\" href=https://colab.research.google.com/notebooks/data_table.ipynb>data table notebook</a>'\n",
              "            + ' to learn more about interactive tables.';\n",
              "          element.innerHTML = '';\n",
              "          dataTable['output_type'] = 'display_data';\n",
              "          await google.colab.output.renderOutput(dataTable, element);\n",
              "          const docLink = document.createElement('div');\n",
              "          docLink.innerHTML = docLinkHtml;\n",
              "          element.appendChild(docLink);\n",
              "        }\n",
              "      </script>\n",
              "    </div>\n",
              "  </div>\n",
              "  "
            ]
          },
          "metadata": {},
          "execution_count": 3
        }
      ]
    },
    {
      "cell_type": "code",
      "source": [
        "#Data preprocessing\n",
        "dic = dict()\n",
        "\n",
        "#traversing through dictionary and assigning values in dict\n",
        "for i in df.columns:\n",
        "    dic[i] = i\n",
        "\n",
        "#Creating new row to add header column name to the data set\n",
        "new_row = pd.DataFrame(dic,index=[0])\n",
        "\n",
        "#concatinating new row to the exixsting data frame\n",
        "df = pd.concat([new_row, df])\n",
        "\n",
        "#creating a list with column names\n",
        "column_name = ['Price','Maintenance cost','Number of doors','Number of passengers','Luggage capacity','Safety rating','Classification of vehicle'] \n",
        "df.to_csv(r'/content/drive/My Drive/cars-sample36.csv', header=column_name, index=False)\n",
        "df = pd.read_csv(r'/content/drive/My Drive/cars-sample36.csv')\n",
        "df['Maintenance cost'][0] = 'high'\n",
        "df.head()"
      ],
      "metadata": {
        "id": "OXrZjwNDpMDP",
        "colab": {
          "base_uri": "https://localhost:8080/",
          "height": 206
        },
        "outputId": "2534e76b-74a6-486b-93a4-b965516b10cb"
      },
      "execution_count": 57,
      "outputs": [
        {
          "output_type": "execute_result",
          "data": {
            "text/plain": [
              "   Price Maintenance cost  Number of doors  Number of passengers  \\\n",
              "0  Price             high  Number of doors  Number of passengers   \n",
              "1   high             high                2                     4   \n",
              "2   high             high                4                  more   \n",
              "3   high             high                4                  more   \n",
              "4   high              low                2                  more   \n",
              "\n",
              "   Luggage capacity  Safety rating  Classification of vehicle  \n",
              "0  Luggage capacity  Safety rating  Classification of vehicle  \n",
              "1               med            low                      unacc  \n",
              "2             small           high                        acc  \n",
              "3               big            low                      unacc  \n",
              "4               big           high                        acc  "
            ],
            "text/html": [
              "\n",
              "  <div id=\"df-b31e830b-585c-4922-99a2-f81df4ef18fe\">\n",
              "    <div class=\"colab-df-container\">\n",
              "      <div>\n",
              "<style scoped>\n",
              "    .dataframe tbody tr th:only-of-type {\n",
              "        vertical-align: middle;\n",
              "    }\n",
              "\n",
              "    .dataframe tbody tr th {\n",
              "        vertical-align: top;\n",
              "    }\n",
              "\n",
              "    .dataframe thead th {\n",
              "        text-align: right;\n",
              "    }\n",
              "</style>\n",
              "<table border=\"1\" class=\"dataframe\">\n",
              "  <thead>\n",
              "    <tr style=\"text-align: right;\">\n",
              "      <th></th>\n",
              "      <th>Price</th>\n",
              "      <th>Maintenance cost</th>\n",
              "      <th>Number of doors</th>\n",
              "      <th>Number of passengers</th>\n",
              "      <th>Luggage capacity</th>\n",
              "      <th>Safety rating</th>\n",
              "      <th>Classification of vehicle</th>\n",
              "    </tr>\n",
              "  </thead>\n",
              "  <tbody>\n",
              "    <tr>\n",
              "      <th>0</th>\n",
              "      <td>Price</td>\n",
              "      <td>high</td>\n",
              "      <td>Number of doors</td>\n",
              "      <td>Number of passengers</td>\n",
              "      <td>Luggage capacity</td>\n",
              "      <td>Safety rating</td>\n",
              "      <td>Classification of vehicle</td>\n",
              "    </tr>\n",
              "    <tr>\n",
              "      <th>1</th>\n",
              "      <td>high</td>\n",
              "      <td>high</td>\n",
              "      <td>2</td>\n",
              "      <td>4</td>\n",
              "      <td>med</td>\n",
              "      <td>low</td>\n",
              "      <td>unacc</td>\n",
              "    </tr>\n",
              "    <tr>\n",
              "      <th>2</th>\n",
              "      <td>high</td>\n",
              "      <td>high</td>\n",
              "      <td>4</td>\n",
              "      <td>more</td>\n",
              "      <td>small</td>\n",
              "      <td>high</td>\n",
              "      <td>acc</td>\n",
              "    </tr>\n",
              "    <tr>\n",
              "      <th>3</th>\n",
              "      <td>high</td>\n",
              "      <td>high</td>\n",
              "      <td>4</td>\n",
              "      <td>more</td>\n",
              "      <td>big</td>\n",
              "      <td>low</td>\n",
              "      <td>unacc</td>\n",
              "    </tr>\n",
              "    <tr>\n",
              "      <th>4</th>\n",
              "      <td>high</td>\n",
              "      <td>low</td>\n",
              "      <td>2</td>\n",
              "      <td>more</td>\n",
              "      <td>big</td>\n",
              "      <td>high</td>\n",
              "      <td>acc</td>\n",
              "    </tr>\n",
              "  </tbody>\n",
              "</table>\n",
              "</div>\n",
              "      <button class=\"colab-df-convert\" onclick=\"convertToInteractive('df-b31e830b-585c-4922-99a2-f81df4ef18fe')\"\n",
              "              title=\"Convert this dataframe to an interactive table.\"\n",
              "              style=\"display:none;\">\n",
              "        \n",
              "  <svg xmlns=\"http://www.w3.org/2000/svg\" height=\"24px\"viewBox=\"0 0 24 24\"\n",
              "       width=\"24px\">\n",
              "    <path d=\"M0 0h24v24H0V0z\" fill=\"none\"/>\n",
              "    <path d=\"M18.56 5.44l.94 2.06.94-2.06 2.06-.94-2.06-.94-.94-2.06-.94 2.06-2.06.94zm-11 1L8.5 8.5l.94-2.06 2.06-.94-2.06-.94L8.5 2.5l-.94 2.06-2.06.94zm10 10l.94 2.06.94-2.06 2.06-.94-2.06-.94-.94-2.06-.94 2.06-2.06.94z\"/><path d=\"M17.41 7.96l-1.37-1.37c-.4-.4-.92-.59-1.43-.59-.52 0-1.04.2-1.43.59L10.3 9.45l-7.72 7.72c-.78.78-.78 2.05 0 2.83L4 21.41c.39.39.9.59 1.41.59.51 0 1.02-.2 1.41-.59l7.78-7.78 2.81-2.81c.8-.78.8-2.07 0-2.86zM5.41 20L4 18.59l7.72-7.72 1.47 1.35L5.41 20z\"/>\n",
              "  </svg>\n",
              "      </button>\n",
              "      \n",
              "  <style>\n",
              "    .colab-df-container {\n",
              "      display:flex;\n",
              "      flex-wrap:wrap;\n",
              "      gap: 12px;\n",
              "    }\n",
              "\n",
              "    .colab-df-convert {\n",
              "      background-color: #E8F0FE;\n",
              "      border: none;\n",
              "      border-radius: 50%;\n",
              "      cursor: pointer;\n",
              "      display: none;\n",
              "      fill: #1967D2;\n",
              "      height: 32px;\n",
              "      padding: 0 0 0 0;\n",
              "      width: 32px;\n",
              "    }\n",
              "\n",
              "    .colab-df-convert:hover {\n",
              "      background-color: #E2EBFA;\n",
              "      box-shadow: 0px 1px 2px rgba(60, 64, 67, 0.3), 0px 1px 3px 1px rgba(60, 64, 67, 0.15);\n",
              "      fill: #174EA6;\n",
              "    }\n",
              "\n",
              "    [theme=dark] .colab-df-convert {\n",
              "      background-color: #3B4455;\n",
              "      fill: #D2E3FC;\n",
              "    }\n",
              "\n",
              "    [theme=dark] .colab-df-convert:hover {\n",
              "      background-color: #434B5C;\n",
              "      box-shadow: 0px 1px 3px 1px rgba(0, 0, 0, 0.15);\n",
              "      filter: drop-shadow(0px 1px 2px rgba(0, 0, 0, 0.3));\n",
              "      fill: #FFFFFF;\n",
              "    }\n",
              "  </style>\n",
              "\n",
              "      <script>\n",
              "        const buttonEl =\n",
              "          document.querySelector('#df-b31e830b-585c-4922-99a2-f81df4ef18fe button.colab-df-convert');\n",
              "        buttonEl.style.display =\n",
              "          google.colab.kernel.accessAllowed ? 'block' : 'none';\n",
              "\n",
              "        async function convertToInteractive(key) {\n",
              "          const element = document.querySelector('#df-b31e830b-585c-4922-99a2-f81df4ef18fe');\n",
              "          const dataTable =\n",
              "            await google.colab.kernel.invokeFunction('convertToInteractive',\n",
              "                                                     [key], {});\n",
              "          if (!dataTable) return;\n",
              "\n",
              "          const docLinkHtml = 'Like what you see? Visit the ' +\n",
              "            '<a target=\"_blank\" href=https://colab.research.google.com/notebooks/data_table.ipynb>data table notebook</a>'\n",
              "            + ' to learn more about interactive tables.';\n",
              "          element.innerHTML = '';\n",
              "          dataTable['output_type'] = 'display_data';\n",
              "          await google.colab.output.renderOutput(dataTable, element);\n",
              "          const docLink = document.createElement('div');\n",
              "          docLink.innerHTML = docLinkHtml;\n",
              "          element.appendChild(docLink);\n",
              "        }\n",
              "      </script>\n",
              "    </div>\n",
              "  </div>\n",
              "  "
            ]
          },
          "metadata": {},
          "execution_count": 57
        }
      ]
    },
    {
      "cell_type": "markdown",
      "source": [
        " **1. (5 Points) Your first task is to find the list index values of each automobile having a price rating of \"med\". However,\n",
        "you are required to do this using a list comprehension instead of a basic for or while loop. The list comprehension\n",
        "should create a new list containing your result. Be sure to print your results to the screen.**"
      ],
      "metadata": {
        "id": "OxPXpbAHpdDb"
      }
    },
    {
      "cell_type": "code",
      "source": [
        "#transforming 'price' column values from dataset to dataframe\n",
        "price = df['Price']\n",
        "\n",
        "#comprehension list is used to retrive indexes \n",
        "#travesring on 'price' and verifying if 'price' column has 'med' value\n",
        "#The return value is a new list, leaving the old list unchanged\n",
        "list1 = [index for index in range(len(price)) if price[index] == \"med\" ]\n",
        "\n",
        "#printing the result\n",
        "list1"
      ],
      "metadata": {
        "colab": {
          "base_uri": "https://localhost:8080/"
        },
        "id": "TotolTsltvPw",
        "outputId": "5128cf45-0f7e-48b1-d4ae-85c189ec9c58"
      },
      "execution_count": null,
      "outputs": [
        {
          "output_type": "execute_result",
          "data": {
            "text/plain": [
              "[6, 16, 20, 23, 26, 29]"
            ]
          },
          "metadata": {},
          "execution_count": 6
        }
      ]
    },
    {
      "cell_type": "markdown",
      "source": [
        "**2. (5 Points) Your second task is to find the \"number of passengers\" value for each auto having a \"price\" value of\n",
        "\"med\" using a list comprehension instead of a basic for or while loop. The list comprehension should create a new\n",
        "list containing your findings. Be sure to print your results to the screen.**"
      ],
      "metadata": {
        "id": "rzteiy866gwH"
      }
    },
    {
      "cell_type": "code",
      "source": [
        "#transforming 'Number of passengers' column values from dataset to dataframe\n",
        "noOfPassengers = df['Number of passengers']\n",
        "\n",
        "#from previous output, we traverse through 'noOfPassengers' and extract 'noOfPassengers' values using indexs\n",
        "passengrs = [noOfPassengers[index] for index in list1]\n",
        "\n",
        "#printing the result\n",
        "passengrs"
      ],
      "metadata": {
        "colab": {
          "base_uri": "https://localhost:8080/"
        },
        "id": "hlv7jMk36t1R",
        "outputId": "aadb13ac-77e9-4fed-c99e-72eab09d994e"
      },
      "execution_count": null,
      "outputs": [
        {
          "output_type": "execute_result",
          "data": {
            "text/plain": [
              "['more', '2', '2', '2', '4', '2']"
            ]
          },
          "metadata": {},
          "execution_count": 10
        }
      ]
    },
    {
      "cell_type": "markdown",
      "source": [
        "**3. (5 Points) Your third task is to find the index value for each automobile having a price value of \"high\" and a\n",
        "maintenance value that is not \"low\" using a list comprehension. The list comprehension should create a new list\n",
        "containing your findings. Be sure to print your results to the screen.**\n"
      ],
      "metadata": {
        "id": "n4HflStpAm-E"
      }
    },
    {
      "cell_type": "code",
      "source": [
        "#transforming 'maintenance' column values from dataset to dataframe\n",
        "maintenance = df['Maintenance cost']\n",
        "\n",
        "#traversing through the dataframe and checking the conditions\n",
        "#condition-1 IF pirce == high\n",
        "#condition-2 IF maintenance != low\n",
        "#storing the return value in list2\n",
        "list2 = [index for index in  range(len(price)) if price[index] == \"high\" and maintenance[index] != \"low\"]\n",
        "\n",
        "#printing the list2\n",
        "list2"
      ],
      "metadata": {
        "colab": {
          "base_uri": "https://localhost:8080/"
        },
        "id": "Xz8JivjTAwIu",
        "outputId": "dc44ad49-5b8f-4cb8-9f3f-18b4e15fb627"
      },
      "execution_count": null,
      "outputs": [
        {
          "output_type": "execute_result",
          "data": {
            "text/plain": [
              "[0, 1, 2, 27, 31]"
            ]
          },
          "metadata": {},
          "execution_count": 13
        }
      ]
    },
    {
      "cell_type": "markdown",
      "source": [
        "**4. (5 Points) For your fourth task, implement this same logic using a list comprehension. Apply your list\n",
        "comprehension to the nlist list of lists shown above. Be sure to print your newly created list to the screen**"
      ],
      "metadata": {
        "id": "OP52owKzB9SB"
      }
    },
    {
      "cell_type": "code",
      "source": [
        "#given nested list\n",
        "nlist = [ [1, 2, 3], ['A', 'B', 'C'], [4, 5], ['D', 'E'] ]\n",
        "\n",
        "#travesring over the firdt list and and traversing te nested list and retruning each value to store in the new list\n",
        "list3 = [index[j] for index in nlist for j in range(len(index))]\n",
        "\n",
        "#printing new list3\n",
        "list3"
      ],
      "metadata": {
        "colab": {
          "base_uri": "https://localhost:8080/"
        },
        "id": "4D_1GvWXCh06",
        "outputId": "794ba2ec-54ae-47ab-f50b-19a98c56e905"
      },
      "execution_count": null,
      "outputs": [
        {
          "output_type": "execute_result",
          "data": {
            "text/plain": [
              "[1, 2, 3, 'A', 'B', 'C', 4, 5, 'D', 'E']"
            ]
          },
          "metadata": {},
          "execution_count": 14
        }
      ]
    },
    {
      "cell_type": "markdown",
      "source": [
        "**5. (5 Points) Your fifth task is to create a user defined function that accepts as input one of the seven automobile\n",
        "attribute lists as well as an integer value and returns a Python dict object. Remember: a Python dict object is\n",
        "comprised of ‘key/value’ pairs. The integer value accepted as a parameter by your function will represent the exact\n",
        "number of items you are to use from the list for purposes of creating the new dict object**"
      ],
      "metadata": {
        "id": "3gXQ_IcbQhcX"
      }
    },
    {
      "cell_type": "code",
      "source": [
        "#transforming price column from data set to new data frame\n",
        "price = df['Price']\n",
        "\n",
        "#creating new function 'makeDict()' with two parameters\n",
        "#makeDict() function accepts two parameters 1. is in list format and 2. is an integer\n",
        "def makeDict(lis, n):\n",
        "\n",
        "  #here we concanitaing letter 'A' with numerics and storing in a list 'l'\n",
        "  l = ['A'+ str(j) for j in range(n)]\n",
        "\n",
        "  #A new dictionary is created with two list's\n",
        "  #1. list conatains alpnanumeric i.e : 'A1','A2',...,'An' as a keys in a dictionary\n",
        "  #2. list contain column values which was given as a parameter to a function\n",
        "  # 'zip' is an inbuilt function which creates an iterator that will aggregate elements from two or more iterables.\n",
        "  new_dict = {l:lis for l,lis in zip(l,lis)}  \n",
        "\n",
        "  #returning new_dict values\n",
        "  return(new_dict)\n",
        "#functioning calling with two parameters 1. list and 2. integer\n",
        "makeDict(price, 8)\n"
      ],
      "metadata": {
        "colab": {
          "base_uri": "https://localhost:8080/"
        },
        "id": "ur-oW49IQsUQ",
        "outputId": "528aa924-b920-4850-df1e-72f3551c37fa"
      },
      "execution_count": null,
      "outputs": [
        {
          "output_type": "execute_result",
          "data": {
            "text/plain": [
              "{'A0': 'high',\n",
              " 'A1': 'high',\n",
              " 'A2': 'high',\n",
              " 'A3': 'high',\n",
              " 'A4': 'vhigh',\n",
              " 'A5': 'low',\n",
              " 'A6': 'med',\n",
              " 'A7': 'low'}"
            ]
          },
          "metadata": {},
          "execution_count": 19
        }
      ]
    },
    {
      "cell_type": "markdown",
      "source": [
        "**6. (5 Points) Now that you have your reusable user-defined function, use it to create two new dict objects containing\n",
        "the first seven elements of the ‘Price’ and ‘Luggage’ lists, respectively. Then, use these dict objects to tell us the\n",
        "price and luggage capacity of the auto identified by the ‘A4’ key value.**"
      ],
      "metadata": {
        "id": "oWOPIVJNU3pu"
      }
    },
    {
      "cell_type": "code",
      "source": [
        "##transforming price column and Luggage column from data set to new data frame\n",
        "price = df['Price']\n",
        "Luggage = df['Luggage capacity']\n",
        "\n",
        "#creating new dictionaries\n",
        "priceDict = {}\n",
        "LuggageDict = {}\n",
        "\n",
        "#calling makeDict function with two diffrent parameter\n",
        "priceDict = makeDict(price, 7)\n",
        "LuggageDict = makeDict(Luggage, 7)\n",
        "\n",
        "#printing the output from the dictinary obj\n",
        "print(priceDict)\n",
        "print(LuggageDict)"
      ],
      "metadata": {
        "colab": {
          "base_uri": "https://localhost:8080/"
        },
        "id": "A2XJDxSZZXan",
        "outputId": "978c4623-3c0b-442a-aea2-7e40eb5ca64b"
      },
      "execution_count": 54,
      "outputs": [
        {
          "output_type": "stream",
          "name": "stdout",
          "text": [
            "{'A0': 'high', 'A1': 'high', 'A2': 'high', 'A3': 'high', 'A4': 'vhigh', 'A5': 'low', 'A6': 'med'}\n",
            "{'A0': 'med', 'A1': 'small', 'A2': 'big', 'A3': 'big', 'A4': 'med', 'A5': 'small', 'A6': 'med'}\n"
          ]
        }
      ]
    },
    {
      "cell_type": "code",
      "source": [
        "#traversing through priceDict and LuggageDict objects  and printing price value and Luggage capacity value wit a key 'A4' and storing in the list\n",
        "newList = [\"price = \" +value for key, value in priceDict.items()if key == 'A4'], [\"Luggage capacity = \" +value for key, value in LuggageDict.items() if key == 'A4']\n",
        "\n",
        "#printing the list\n",
        "newList\n"
      ],
      "metadata": {
        "colab": {
          "base_uri": "https://localhost:8080/"
        },
        "id": "GalEwOdOdMQp",
        "outputId": "0804dc0b-47a1-4c4b-ad0b-7f8600e43832"
      },
      "execution_count": 56,
      "outputs": [
        {
          "output_type": "execute_result",
          "data": {
            "text/plain": [
              "(['price = vhigh'], ['Luggage capacity = med'])"
            ]
          },
          "metadata": {},
          "execution_count": 56
        }
      ]
    }
  ]
}