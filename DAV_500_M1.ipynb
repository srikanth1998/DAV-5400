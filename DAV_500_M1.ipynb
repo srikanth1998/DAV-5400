{
  "nbformat": 4,
  "nbformat_minor": 0,
  "metadata": {
    "colab": {
      "provenance": [],
      "collapsed_sections": [],
      "authorship_tag": "ABX9TyPFW4VL+d30HdnPu0SX+Uwu",
      "include_colab_link": true
    },
    "kernelspec": {
      "name": "python3",
      "display_name": "Python 3"
    },
    "language_info": {
      "name": "python"
    }
  },
  "cells": [
    {
      "cell_type": "markdown",
      "metadata": {
        "id": "view-in-github",
        "colab_type": "text"
      },
      "source": [
        "<a href=\"https://colab.research.google.com/github/srikanth1998/DAV-5400/blob/master/DAV_500_M1.ipynb\" target=\"_parent\"><img src=\"https://colab.research.google.com/assets/colab-badge.svg\" alt=\"Open In Colab\"/></a>"
      ]
    },
    {
      "cell_type": "markdown",
      "source": [
        "**DAV 5400 Module 1 Assignment**\n",
        "\n",
        "**Srikanth Burra**"
      ],
      "metadata": {
        "id": "e0-OBUsEJRLo"
      }
    },
    {
      "cell_type": "code",
      "execution_count": 56,
      "metadata": {
        "colab": {
          "base_uri": "https://localhost:8080/"
        },
        "id": "kxvSNmZMcRW1",
        "outputId": "311a9333-a347-4a14-da94-6a45ede6414e"
      },
      "outputs": [
        {
          "output_type": "stream",
          "name": "stdout",
          "text": [
            "Drive already mounted at /content/drive; to attempt to forcibly remount, call drive.mount(\"/content/drive\", force_remount=True).\n"
          ]
        }
      ],
      "source": [
        "from google.colab import drive\n",
        "drive.mount('/content/drive')"
      ]
    },
    {
      "cell_type": "code",
      "source": [
        "\n",
        "import pandas as pd\n",
        "import numpy as np\n",
        "\n",
        "#loading txt file from drive\n",
        "df = pd.read_csv('/content/drive/My Drive/cars-sample35.txt')\n",
        "\n",
        "#converting txt file to CSV \n",
        "df.to_csv('cars.csv',index = None)\n",
        "df.head()\n",
        "\n"
      ],
      "metadata": {
        "id": "f4R2PMzYelOj",
        "colab": {
          "base_uri": "https://localhost:8080/",
          "height": 206
        },
        "outputId": "52f6cb7a-924e-4c71-d931-812e8f0f5c2a"
      },
      "execution_count": 57,
      "outputs": [
        {
          "output_type": "execute_result",
          "data": {
            "text/plain": [
              "    high high.1  2     4    med   low  unacc\n",
              "0   high   high  4  more  small  high    acc\n",
              "1   high   high  4  more    big   low  unacc\n",
              "2   high    low  2  more    big  high    acc\n",
              "3  vhigh    low  3     2    med   med  unacc\n",
              "4    low   high  2     2  small   low  unacc"
            ],
            "text/html": [
              "\n",
              "  <div id=\"df-16a87cbd-e764-4b47-9c2c-6926ea91a43f\">\n",
              "    <div class=\"colab-df-container\">\n",
              "      <div>\n",
              "<style scoped>\n",
              "    .dataframe tbody tr th:only-of-type {\n",
              "        vertical-align: middle;\n",
              "    }\n",
              "\n",
              "    .dataframe tbody tr th {\n",
              "        vertical-align: top;\n",
              "    }\n",
              "\n",
              "    .dataframe thead th {\n",
              "        text-align: right;\n",
              "    }\n",
              "</style>\n",
              "<table border=\"1\" class=\"dataframe\">\n",
              "  <thead>\n",
              "    <tr style=\"text-align: right;\">\n",
              "      <th></th>\n",
              "      <th>high</th>\n",
              "      <th>high.1</th>\n",
              "      <th>2</th>\n",
              "      <th>4</th>\n",
              "      <th>med</th>\n",
              "      <th>low</th>\n",
              "      <th>unacc</th>\n",
              "    </tr>\n",
              "  </thead>\n",
              "  <tbody>\n",
              "    <tr>\n",
              "      <th>0</th>\n",
              "      <td>high</td>\n",
              "      <td>high</td>\n",
              "      <td>4</td>\n",
              "      <td>more</td>\n",
              "      <td>small</td>\n",
              "      <td>high</td>\n",
              "      <td>acc</td>\n",
              "    </tr>\n",
              "    <tr>\n",
              "      <th>1</th>\n",
              "      <td>high</td>\n",
              "      <td>high</td>\n",
              "      <td>4</td>\n",
              "      <td>more</td>\n",
              "      <td>big</td>\n",
              "      <td>low</td>\n",
              "      <td>unacc</td>\n",
              "    </tr>\n",
              "    <tr>\n",
              "      <th>2</th>\n",
              "      <td>high</td>\n",
              "      <td>low</td>\n",
              "      <td>2</td>\n",
              "      <td>more</td>\n",
              "      <td>big</td>\n",
              "      <td>high</td>\n",
              "      <td>acc</td>\n",
              "    </tr>\n",
              "    <tr>\n",
              "      <th>3</th>\n",
              "      <td>vhigh</td>\n",
              "      <td>low</td>\n",
              "      <td>3</td>\n",
              "      <td>2</td>\n",
              "      <td>med</td>\n",
              "      <td>med</td>\n",
              "      <td>unacc</td>\n",
              "    </tr>\n",
              "    <tr>\n",
              "      <th>4</th>\n",
              "      <td>low</td>\n",
              "      <td>high</td>\n",
              "      <td>2</td>\n",
              "      <td>2</td>\n",
              "      <td>small</td>\n",
              "      <td>low</td>\n",
              "      <td>unacc</td>\n",
              "    </tr>\n",
              "  </tbody>\n",
              "</table>\n",
              "</div>\n",
              "      <button class=\"colab-df-convert\" onclick=\"convertToInteractive('df-16a87cbd-e764-4b47-9c2c-6926ea91a43f')\"\n",
              "              title=\"Convert this dataframe to an interactive table.\"\n",
              "              style=\"display:none;\">\n",
              "        \n",
              "  <svg xmlns=\"http://www.w3.org/2000/svg\" height=\"24px\"viewBox=\"0 0 24 24\"\n",
              "       width=\"24px\">\n",
              "    <path d=\"M0 0h24v24H0V0z\" fill=\"none\"/>\n",
              "    <path d=\"M18.56 5.44l.94 2.06.94-2.06 2.06-.94-2.06-.94-.94-2.06-.94 2.06-2.06.94zm-11 1L8.5 8.5l.94-2.06 2.06-.94-2.06-.94L8.5 2.5l-.94 2.06-2.06.94zm10 10l.94 2.06.94-2.06 2.06-.94-2.06-.94-.94-2.06-.94 2.06-2.06.94z\"/><path d=\"M17.41 7.96l-1.37-1.37c-.4-.4-.92-.59-1.43-.59-.52 0-1.04.2-1.43.59L10.3 9.45l-7.72 7.72c-.78.78-.78 2.05 0 2.83L4 21.41c.39.39.9.59 1.41.59.51 0 1.02-.2 1.41-.59l7.78-7.78 2.81-2.81c.8-.78.8-2.07 0-2.86zM5.41 20L4 18.59l7.72-7.72 1.47 1.35L5.41 20z\"/>\n",
              "  </svg>\n",
              "      </button>\n",
              "      \n",
              "  <style>\n",
              "    .colab-df-container {\n",
              "      display:flex;\n",
              "      flex-wrap:wrap;\n",
              "      gap: 12px;\n",
              "    }\n",
              "\n",
              "    .colab-df-convert {\n",
              "      background-color: #E8F0FE;\n",
              "      border: none;\n",
              "      border-radius: 50%;\n",
              "      cursor: pointer;\n",
              "      display: none;\n",
              "      fill: #1967D2;\n",
              "      height: 32px;\n",
              "      padding: 0 0 0 0;\n",
              "      width: 32px;\n",
              "    }\n",
              "\n",
              "    .colab-df-convert:hover {\n",
              "      background-color: #E2EBFA;\n",
              "      box-shadow: 0px 1px 2px rgba(60, 64, 67, 0.3), 0px 1px 3px 1px rgba(60, 64, 67, 0.15);\n",
              "      fill: #174EA6;\n",
              "    }\n",
              "\n",
              "    [theme=dark] .colab-df-convert {\n",
              "      background-color: #3B4455;\n",
              "      fill: #D2E3FC;\n",
              "    }\n",
              "\n",
              "    [theme=dark] .colab-df-convert:hover {\n",
              "      background-color: #434B5C;\n",
              "      box-shadow: 0px 1px 3px 1px rgba(0, 0, 0, 0.15);\n",
              "      filter: drop-shadow(0px 1px 2px rgba(0, 0, 0, 0.3));\n",
              "      fill: #FFFFFF;\n",
              "    }\n",
              "  </style>\n",
              "\n",
              "      <script>\n",
              "        const buttonEl =\n",
              "          document.querySelector('#df-16a87cbd-e764-4b47-9c2c-6926ea91a43f button.colab-df-convert');\n",
              "        buttonEl.style.display =\n",
              "          google.colab.kernel.accessAllowed ? 'block' : 'none';\n",
              "\n",
              "        async function convertToInteractive(key) {\n",
              "          const element = document.querySelector('#df-16a87cbd-e764-4b47-9c2c-6926ea91a43f');\n",
              "          const dataTable =\n",
              "            await google.colab.kernel.invokeFunction('convertToInteractive',\n",
              "                                                     [key], {});\n",
              "          if (!dataTable) return;\n",
              "\n",
              "          const docLinkHtml = 'Like what you see? Visit the ' +\n",
              "            '<a target=\"_blank\" href=https://colab.research.google.com/notebooks/data_table.ipynb>data table notebook</a>'\n",
              "            + ' to learn more about interactive tables.';\n",
              "          element.innerHTML = '';\n",
              "          dataTable['output_type'] = 'display_data';\n",
              "          await google.colab.output.renderOutput(dataTable, element);\n",
              "          const docLink = document.createElement('div');\n",
              "          docLink.innerHTML = docLinkHtml;\n",
              "          element.appendChild(docLink);\n",
              "        }\n",
              "      </script>\n",
              "    </div>\n",
              "  </div>\n",
              "  "
            ]
          },
          "metadata": {},
          "execution_count": 57
        }
      ]
    },
    {
      "cell_type": "code",
      "source": [
        "#Data preprocessing\n",
        "dic = dict()\n",
        "for i in df.columns:\n",
        "    dic[i] = i\n",
        "new_row = pd.DataFrame(dic,index=[0])\n",
        "df = pd.concat([new_row, df])\n",
        "column_name = ['Price','Maintenance cost','Number of doors','Number of passengers','Luggage capacity','Safety rating','Classification of vehicle'] \n",
        "df.to_csv(r'/content/drive/My Drive/cars-sample36.csv', header=column_name, index=False)\n",
        "df = pd.read_csv(r'/content/drive/My Drive/cars-sample36.csv')\n",
        "df['Maintenance cost'][0] = 'high'\n",
        "df.head()"
      ],
      "metadata": {
        "id": "OXrZjwNDpMDP",
        "colab": {
          "base_uri": "https://localhost:8080/",
          "height": 206
        },
        "outputId": "fc94d5e7-1a58-4c65-80be-331e1c5eb468"
      },
      "execution_count": 58,
      "outputs": [
        {
          "output_type": "execute_result",
          "data": {
            "text/plain": [
              "   Price Maintenance cost Number of doors Number of passengers  \\\n",
              "0   high             high               2                    4   \n",
              "1   high             high               4                 more   \n",
              "2   high             high               4                 more   \n",
              "3   high              low               2                 more   \n",
              "4  vhigh              low               3                    2   \n",
              "\n",
              "  Luggage capacity Safety rating Classification of vehicle  \n",
              "0              med           low                     unacc  \n",
              "1            small          high                       acc  \n",
              "2              big           low                     unacc  \n",
              "3              big          high                       acc  \n",
              "4              med           med                     unacc  "
            ],
            "text/html": [
              "\n",
              "  <div id=\"df-146bf8ad-5fda-4a22-b832-6abff4ad2196\">\n",
              "    <div class=\"colab-df-container\">\n",
              "      <div>\n",
              "<style scoped>\n",
              "    .dataframe tbody tr th:only-of-type {\n",
              "        vertical-align: middle;\n",
              "    }\n",
              "\n",
              "    .dataframe tbody tr th {\n",
              "        vertical-align: top;\n",
              "    }\n",
              "\n",
              "    .dataframe thead th {\n",
              "        text-align: right;\n",
              "    }\n",
              "</style>\n",
              "<table border=\"1\" class=\"dataframe\">\n",
              "  <thead>\n",
              "    <tr style=\"text-align: right;\">\n",
              "      <th></th>\n",
              "      <th>Price</th>\n",
              "      <th>Maintenance cost</th>\n",
              "      <th>Number of doors</th>\n",
              "      <th>Number of passengers</th>\n",
              "      <th>Luggage capacity</th>\n",
              "      <th>Safety rating</th>\n",
              "      <th>Classification of vehicle</th>\n",
              "    </tr>\n",
              "  </thead>\n",
              "  <tbody>\n",
              "    <tr>\n",
              "      <th>0</th>\n",
              "      <td>high</td>\n",
              "      <td>high</td>\n",
              "      <td>2</td>\n",
              "      <td>4</td>\n",
              "      <td>med</td>\n",
              "      <td>low</td>\n",
              "      <td>unacc</td>\n",
              "    </tr>\n",
              "    <tr>\n",
              "      <th>1</th>\n",
              "      <td>high</td>\n",
              "      <td>high</td>\n",
              "      <td>4</td>\n",
              "      <td>more</td>\n",
              "      <td>small</td>\n",
              "      <td>high</td>\n",
              "      <td>acc</td>\n",
              "    </tr>\n",
              "    <tr>\n",
              "      <th>2</th>\n",
              "      <td>high</td>\n",
              "      <td>high</td>\n",
              "      <td>4</td>\n",
              "      <td>more</td>\n",
              "      <td>big</td>\n",
              "      <td>low</td>\n",
              "      <td>unacc</td>\n",
              "    </tr>\n",
              "    <tr>\n",
              "      <th>3</th>\n",
              "      <td>high</td>\n",
              "      <td>low</td>\n",
              "      <td>2</td>\n",
              "      <td>more</td>\n",
              "      <td>big</td>\n",
              "      <td>high</td>\n",
              "      <td>acc</td>\n",
              "    </tr>\n",
              "    <tr>\n",
              "      <th>4</th>\n",
              "      <td>vhigh</td>\n",
              "      <td>low</td>\n",
              "      <td>3</td>\n",
              "      <td>2</td>\n",
              "      <td>med</td>\n",
              "      <td>med</td>\n",
              "      <td>unacc</td>\n",
              "    </tr>\n",
              "  </tbody>\n",
              "</table>\n",
              "</div>\n",
              "      <button class=\"colab-df-convert\" onclick=\"convertToInteractive('df-146bf8ad-5fda-4a22-b832-6abff4ad2196')\"\n",
              "              title=\"Convert this dataframe to an interactive table.\"\n",
              "              style=\"display:none;\">\n",
              "        \n",
              "  <svg xmlns=\"http://www.w3.org/2000/svg\" height=\"24px\"viewBox=\"0 0 24 24\"\n",
              "       width=\"24px\">\n",
              "    <path d=\"M0 0h24v24H0V0z\" fill=\"none\"/>\n",
              "    <path d=\"M18.56 5.44l.94 2.06.94-2.06 2.06-.94-2.06-.94-.94-2.06-.94 2.06-2.06.94zm-11 1L8.5 8.5l.94-2.06 2.06-.94-2.06-.94L8.5 2.5l-.94 2.06-2.06.94zm10 10l.94 2.06.94-2.06 2.06-.94-2.06-.94-.94-2.06-.94 2.06-2.06.94z\"/><path d=\"M17.41 7.96l-1.37-1.37c-.4-.4-.92-.59-1.43-.59-.52 0-1.04.2-1.43.59L10.3 9.45l-7.72 7.72c-.78.78-.78 2.05 0 2.83L4 21.41c.39.39.9.59 1.41.59.51 0 1.02-.2 1.41-.59l7.78-7.78 2.81-2.81c.8-.78.8-2.07 0-2.86zM5.41 20L4 18.59l7.72-7.72 1.47 1.35L5.41 20z\"/>\n",
              "  </svg>\n",
              "      </button>\n",
              "      \n",
              "  <style>\n",
              "    .colab-df-container {\n",
              "      display:flex;\n",
              "      flex-wrap:wrap;\n",
              "      gap: 12px;\n",
              "    }\n",
              "\n",
              "    .colab-df-convert {\n",
              "      background-color: #E8F0FE;\n",
              "      border: none;\n",
              "      border-radius: 50%;\n",
              "      cursor: pointer;\n",
              "      display: none;\n",
              "      fill: #1967D2;\n",
              "      height: 32px;\n",
              "      padding: 0 0 0 0;\n",
              "      width: 32px;\n",
              "    }\n",
              "\n",
              "    .colab-df-convert:hover {\n",
              "      background-color: #E2EBFA;\n",
              "      box-shadow: 0px 1px 2px rgba(60, 64, 67, 0.3), 0px 1px 3px 1px rgba(60, 64, 67, 0.15);\n",
              "      fill: #174EA6;\n",
              "    }\n",
              "\n",
              "    [theme=dark] .colab-df-convert {\n",
              "      background-color: #3B4455;\n",
              "      fill: #D2E3FC;\n",
              "    }\n",
              "\n",
              "    [theme=dark] .colab-df-convert:hover {\n",
              "      background-color: #434B5C;\n",
              "      box-shadow: 0px 1px 3px 1px rgba(0, 0, 0, 0.15);\n",
              "      filter: drop-shadow(0px 1px 2px rgba(0, 0, 0, 0.3));\n",
              "      fill: #FFFFFF;\n",
              "    }\n",
              "  </style>\n",
              "\n",
              "      <script>\n",
              "        const buttonEl =\n",
              "          document.querySelector('#df-146bf8ad-5fda-4a22-b832-6abff4ad2196 button.colab-df-convert');\n",
              "        buttonEl.style.display =\n",
              "          google.colab.kernel.accessAllowed ? 'block' : 'none';\n",
              "\n",
              "        async function convertToInteractive(key) {\n",
              "          const element = document.querySelector('#df-146bf8ad-5fda-4a22-b832-6abff4ad2196');\n",
              "          const dataTable =\n",
              "            await google.colab.kernel.invokeFunction('convertToInteractive',\n",
              "                                                     [key], {});\n",
              "          if (!dataTable) return;\n",
              "\n",
              "          const docLinkHtml = 'Like what you see? Visit the ' +\n",
              "            '<a target=\"_blank\" href=https://colab.research.google.com/notebooks/data_table.ipynb>data table notebook</a>'\n",
              "            + ' to learn more about interactive tables.';\n",
              "          element.innerHTML = '';\n",
              "          dataTable['output_type'] = 'display_data';\n",
              "          await google.colab.output.renderOutput(dataTable, element);\n",
              "          const docLink = document.createElement('div');\n",
              "          docLink.innerHTML = docLinkHtml;\n",
              "          element.appendChild(docLink);\n",
              "        }\n",
              "      </script>\n",
              "    </div>\n",
              "  </div>\n",
              "  "
            ]
          },
          "metadata": {},
          "execution_count": 58
        }
      ]
    },
    {
      "cell_type": "markdown",
      "source": [
        " **1. Your first task is to read the file again and extract these seven attributes from each line of the file and\n",
        "create seven distinct Python list objects comprised solely of the values you extracted for a given attribute.**"
      ],
      "metadata": {
        "id": "OxPXpbAHpdDb"
      }
    },
    {
      "cell_type": "code",
      "source": [
        "#transposing the dataframe\n",
        "dt = df.T\n",
        "\n",
        "#data frame with values\n",
        "dv = dt.iloc[0:,:5]\n",
        "\n",
        "#dc = dataframe with coulmns\n",
        "dc =df.columns\n",
        "\n",
        "#creating te dictionary to store key value pairs\n",
        "class dictionary(dict): \n",
        "    \n",
        "    def __init__(self): \n",
        "        self = dict()   \n",
        "   \n",
        "    def add(self, key, value): \n",
        "        self[key] = value \n",
        "\n",
        "dict_obj = dictionary() \n",
        "count=0\n",
        "\n",
        "#adding coloumns to keys and rows to values\n",
        "while count < len(dc) :   \n",
        "    dict_obj.key = dc[count]\n",
        "    dict_obj.value = dv.values[count]\n",
        "    dict_obj.add(dict_obj.key, dict_obj.value) \n",
        "    count += 1\n",
        "\n",
        "#iterating on dtionary\n",
        "#printing dictionary values\n",
        "for i in dict_obj:\n",
        "  val = dict_obj[i]\n",
        "  print(i, '=', val)\n"
      ],
      "metadata": {
        "colab": {
          "base_uri": "https://localhost:8080/"
        },
        "id": "9fnADSdQHjnu",
        "outputId": "4d9519bb-d150-4acf-9ef2-53e0c2ef8b42"
      },
      "execution_count": 59,
      "outputs": [
        {
          "output_type": "stream",
          "name": "stdout",
          "text": [
            "Price = ['high' 'high' 'high' 'high' 'vhigh']\n",
            "Maintenance cost = ['high' 'high' 'high' 'low' 'low']\n",
            "Number of doors = ['2' '4' '4' '2' '3']\n",
            "Number of passengers = ['4' 'more' 'more' 'more' '2']\n",
            "Luggage capacity = ['med' 'small' 'big' 'big' 'med']\n",
            "Safety rating = ['low' 'high' 'low' 'high' 'med']\n",
            "Classification of vehicle = ['unacc' 'acc' 'unacc' 'acc' 'unacc']\n"
          ]
        }
      ]
    },
    {
      "cell_type": "markdown",
      "source": [
        "**2. (5 Points) Your second task is to find the list index values of each automobile having a “price” rating of \"med\".\n",
        "Create a new list object with your result. HINT: you can accomplish this task by searching the list of price values you\n",
        "created earlier. Be sure to print your results.**\n"
      ],
      "metadata": {
        "id": "2D1H2kaLrfyG"
      }
    },
    {
      "cell_type": "code",
      "source": [
        "#importing 'Price' values from df to Price attribute\n",
        "price = df['Price']\n",
        "\n",
        "#creating empty list \n",
        "priceMidList = []\n",
        "\n",
        "#iterating over length of price \n",
        "for i in range(len(price)):\n",
        "\n",
        "#comparing if price data frame has 'med'\n",
        "  if price[i] == 'med':\n",
        "    priceMidList.append(i)\n",
        "\n",
        "#printing index values stored in priceMidList\n",
        "print(priceMidList)"
      ],
      "metadata": {
        "colab": {
          "base_uri": "https://localhost:8080/"
        },
        "id": "qWKK6gZHrhMa",
        "outputId": "c7168bd8-1a90-4ea7-94ab-1379ac41ef36"
      },
      "execution_count": 60,
      "outputs": [
        {
          "output_type": "stream",
          "name": "stdout",
          "text": [
            "[6, 16, 20, 23, 26, 29]\n"
          ]
        }
      ]
    },
    {
      "cell_type": "markdown",
      "source": [
        "**3. (5 Points) Your third task is to find the \"number of passengers\" value for each auto having a \"price\" value of \"med\".\n",
        "Create a new list to store your findings and be sure to print your results.**"
      ],
      "metadata": {
        "id": "tGj9nMo-yevY"
      }
    },
    {
      "cell_type": "code",
      "source": [
        "#importing 'Number of passengers'  from df to noOfPassengers\n",
        "noOfPassengers = df['Number of passengers']\n",
        "\n",
        "#creating empty list\n",
        "Passengers = []\n",
        "\n",
        "#iterating over priceMidList from previous list which having index values\n",
        "for i in priceMidList:\n",
        "\n",
        "  #storing new index values in Passengers list by refering previous index\n",
        "  Passengers.append(noOfPassengers[i])\n",
        "\n",
        "#printing indexes\n",
        "print(Passengers)"
      ],
      "metadata": {
        "colab": {
          "base_uri": "https://localhost:8080/"
        },
        "id": "JL3IGjWgui2m",
        "outputId": "2687b8bf-d7f8-4baf-c0e2-adffc9fb4b31"
      },
      "execution_count": 61,
      "outputs": [
        {
          "output_type": "stream",
          "name": "stdout",
          "text": [
            "['more', '2', '2', '2', '4', '2']\n"
          ]
        }
      ]
    },
    {
      "cell_type": "markdown",
      "source": [
        " **4. (5 Points) Your fourth task is to find the index value for each automobile having a “price” value of \"high\" and a\n",
        "“maintenance” value that is not \"low\". Create a new list to store your findings and be sure to print your results.**"
      ],
      "metadata": {
        "id": "gxLKJ3lwUD2f"
      }
    },
    {
      "cell_type": "code",
      "source": [
        "#importing 'Price' from df to 'price'\n",
        "#importing 'Maintenance cost' from df to 'maintenance'\n",
        "price = df['Price']\n",
        "maintenance = df['Maintenance cost']\n",
        "\n",
        "#creating List priceMidList\n",
        "priceMidList = []\n",
        "\n",
        "#iterating over price \n",
        "for i in range(len(price)):\n",
        "\n",
        "  #comparing two values and storing index values in priceMidList\n",
        "  if price[i] == \"high\" and maintenance[i] != \"low\":\n",
        "    priceMidList.append(i)\n",
        "\n",
        "#printing index value\n",
        "print(priceMidList)"
      ],
      "metadata": {
        "colab": {
          "base_uri": "https://localhost:8080/"
        },
        "id": "hwxfFKygypR8",
        "outputId": "fbe06576-a0ee-4f98-da1c-865322813c92"
      },
      "execution_count": 62,
      "outputs": [
        {
          "output_type": "stream",
          "name": "stdout",
          "text": [
            "[0, 1, 2, 27, 31]\n"
          ]
        }
      ]
    },
    {
      "cell_type": "markdown",
      "source": [
        "**5. (5 Points) Your fifth task is to find the index value for each auto having 2 doors and a luggage value of \"big\". Create a\n",
        "new list to store your findings and be sure to print your results.**\n"
      ],
      "metadata": {
        "id": "u_BS0hFTbpjo"
      }
    },
    {
      "cell_type": "code",
      "source": [
        "#importing 'Luggage capacity' from df to 'Luggage'\n",
        "#importing 'Number of doors' from df to 'doors'\n",
        "Luggage = df['Luggage capacity']\n",
        "doors = df['Number of doors']\n",
        "\n",
        "#creating List LuggageCapacity\n",
        "LuggageCapacity = []\n",
        "\n",
        "#iterating over doors df\n",
        "for i in range(len(doors)):\n",
        "\n",
        "  #Comparing two values and storing index values in LuggageCapacity\n",
        "  if doors[i] == \"2\" and Luggage[i] == \"big\":\n",
        "    LuggageCapacity.append(i)\n",
        "\n",
        "#printing index value\n",
        "print(LuggageCapacity)"
      ],
      "metadata": {
        "colab": {
          "base_uri": "https://localhost:8080/"
        },
        "id": "G_1mA6Rv2wuw",
        "outputId": "56076065-7647-4b5a-8e3d-afd4689f4036"
      },
      "execution_count": 63,
      "outputs": [
        {
          "output_type": "stream",
          "name": "stdout",
          "text": [
            "[3, 12, 19, 23]\n"
          ]
        }
      ]
    },
    {
      "cell_type": "markdown",
      "source": [
        "**6. (5 Points) Finally, create a new list containing the only the integer equivalents of the doors values. Keep in mind that\n",
        "the lists you have created thus far are composed solely of strings. If you find any values of '5more' in your list,\n",
        "convert them to a '5'. After converting the '5more' values to '5', convert all of the items in your list to their numeric\n",
        "equivalent and calculate the average number of doors across all 35 autos using whichever of Python's built in\n",
        "functions you require. Print your resul**"
      ],
      "metadata": {
        "id": "I6KHxlkrfhDT"
      }
    },
    {
      "cell_type": "code",
      "source": [
        "#initiating \"Number of doors\" from df to \"doors\"\n",
        "doors = df['Number of doors']\n",
        "\n",
        "#iterating over for loop and coverting string value sto int values\n",
        "for i in range(len(doors)):\n",
        "  if doors[i] == \"5more\":\n",
        "    doors[i] = 5\n",
        "  else:\n",
        "    doors[i] = int(doors[i])\n",
        "\n",
        "#finding average of the list using bilting MEAN function\n",
        "mean(doors)\n"
      ],
      "metadata": {
        "colab": {
          "base_uri": "https://localhost:8080/"
        },
        "id": "ncIiZXPKf-OU",
        "outputId": "6d7a5712-50b4-4983-b44e-6d621df71831"
      },
      "execution_count": 64,
      "outputs": [
        {
          "output_type": "execute_result",
          "data": {
            "text/plain": [
              "3.3142857142857145"
            ]
          },
          "metadata": {},
          "execution_count": 64
        }
      ]
    }
  ]
}