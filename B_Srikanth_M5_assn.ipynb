{
  "cells": [
    {
      "cell_type": "markdown",
      "metadata": {
        "id": "view-in-github",
        "colab_type": "text"
      },
      "source": [
        "<a href=\"https://colab.research.google.com/github/srikanth1998/DAV-5400/blob/master/B_Srikanth_M5_assn.ipynb\" target=\"_parent\"><img src=\"https://colab.research.google.com/assets/colab-badge.svg\" alt=\"Open In Colab\"/></a>"
      ]
    },
    {
      "cell_type": "code",
      "execution_count": 8,
      "id": "3556ed15",
      "metadata": {
        "colab": {
          "base_uri": "https://localhost:8080/",
          "height": 206
        },
        "id": "3556ed15",
        "outputId": "431e7027-1731-452c-ea66-78b3b99cc2ee"
      },
      "outputs": [
        {
          "output_type": "execute_result",
          "data": {
            "text/plain": [
              "   carat      cut color clarity  depth  table  price     x     y     z\n",
              "0   0.23    Ideal     E     SI2   61.5   55.0    326  3.95  3.98  2.43\n",
              "1   0.21  Premium     E     SI1   59.8   61.0    326  3.89  3.84  2.31\n",
              "2   0.23     Good     E     VS1   56.9   65.0    327  4.05  4.07  2.31\n",
              "3   0.29  Premium     I     VS2   62.4   58.0    334  4.20  4.23  2.63\n",
              "4   0.31     Good     J     SI2   63.3   58.0    335  4.34  4.35  2.75"
            ],
            "text/html": [
              "\n",
              "  <div id=\"df-b62589c9-a819-479d-bf0f-cceebf608bb7\">\n",
              "    <div class=\"colab-df-container\">\n",
              "      <div>\n",
              "<style scoped>\n",
              "    .dataframe tbody tr th:only-of-type {\n",
              "        vertical-align: middle;\n",
              "    }\n",
              "\n",
              "    .dataframe tbody tr th {\n",
              "        vertical-align: top;\n",
              "    }\n",
              "\n",
              "    .dataframe thead th {\n",
              "        text-align: right;\n",
              "    }\n",
              "</style>\n",
              "<table border=\"1\" class=\"dataframe\">\n",
              "  <thead>\n",
              "    <tr style=\"text-align: right;\">\n",
              "      <th></th>\n",
              "      <th>carat</th>\n",
              "      <th>cut</th>\n",
              "      <th>color</th>\n",
              "      <th>clarity</th>\n",
              "      <th>depth</th>\n",
              "      <th>table</th>\n",
              "      <th>price</th>\n",
              "      <th>x</th>\n",
              "      <th>y</th>\n",
              "      <th>z</th>\n",
              "    </tr>\n",
              "  </thead>\n",
              "  <tbody>\n",
              "    <tr>\n",
              "      <th>0</th>\n",
              "      <td>0.23</td>\n",
              "      <td>Ideal</td>\n",
              "      <td>E</td>\n",
              "      <td>SI2</td>\n",
              "      <td>61.5</td>\n",
              "      <td>55.0</td>\n",
              "      <td>326</td>\n",
              "      <td>3.95</td>\n",
              "      <td>3.98</td>\n",
              "      <td>2.43</td>\n",
              "    </tr>\n",
              "    <tr>\n",
              "      <th>1</th>\n",
              "      <td>0.21</td>\n",
              "      <td>Premium</td>\n",
              "      <td>E</td>\n",
              "      <td>SI1</td>\n",
              "      <td>59.8</td>\n",
              "      <td>61.0</td>\n",
              "      <td>326</td>\n",
              "      <td>3.89</td>\n",
              "      <td>3.84</td>\n",
              "      <td>2.31</td>\n",
              "    </tr>\n",
              "    <tr>\n",
              "      <th>2</th>\n",
              "      <td>0.23</td>\n",
              "      <td>Good</td>\n",
              "      <td>E</td>\n",
              "      <td>VS1</td>\n",
              "      <td>56.9</td>\n",
              "      <td>65.0</td>\n",
              "      <td>327</td>\n",
              "      <td>4.05</td>\n",
              "      <td>4.07</td>\n",
              "      <td>2.31</td>\n",
              "    </tr>\n",
              "    <tr>\n",
              "      <th>3</th>\n",
              "      <td>0.29</td>\n",
              "      <td>Premium</td>\n",
              "      <td>I</td>\n",
              "      <td>VS2</td>\n",
              "      <td>62.4</td>\n",
              "      <td>58.0</td>\n",
              "      <td>334</td>\n",
              "      <td>4.20</td>\n",
              "      <td>4.23</td>\n",
              "      <td>2.63</td>\n",
              "    </tr>\n",
              "    <tr>\n",
              "      <th>4</th>\n",
              "      <td>0.31</td>\n",
              "      <td>Good</td>\n",
              "      <td>J</td>\n",
              "      <td>SI2</td>\n",
              "      <td>63.3</td>\n",
              "      <td>58.0</td>\n",
              "      <td>335</td>\n",
              "      <td>4.34</td>\n",
              "      <td>4.35</td>\n",
              "      <td>2.75</td>\n",
              "    </tr>\n",
              "  </tbody>\n",
              "</table>\n",
              "</div>\n",
              "      <button class=\"colab-df-convert\" onclick=\"convertToInteractive('df-b62589c9-a819-479d-bf0f-cceebf608bb7')\"\n",
              "              title=\"Convert this dataframe to an interactive table.\"\n",
              "              style=\"display:none;\">\n",
              "        \n",
              "  <svg xmlns=\"http://www.w3.org/2000/svg\" height=\"24px\"viewBox=\"0 0 24 24\"\n",
              "       width=\"24px\">\n",
              "    <path d=\"M0 0h24v24H0V0z\" fill=\"none\"/>\n",
              "    <path d=\"M18.56 5.44l.94 2.06.94-2.06 2.06-.94-2.06-.94-.94-2.06-.94 2.06-2.06.94zm-11 1L8.5 8.5l.94-2.06 2.06-.94-2.06-.94L8.5 2.5l-.94 2.06-2.06.94zm10 10l.94 2.06.94-2.06 2.06-.94-2.06-.94-.94-2.06-.94 2.06-2.06.94z\"/><path d=\"M17.41 7.96l-1.37-1.37c-.4-.4-.92-.59-1.43-.59-.52 0-1.04.2-1.43.59L10.3 9.45l-7.72 7.72c-.78.78-.78 2.05 0 2.83L4 21.41c.39.39.9.59 1.41.59.51 0 1.02-.2 1.41-.59l7.78-7.78 2.81-2.81c.8-.78.8-2.07 0-2.86zM5.41 20L4 18.59l7.72-7.72 1.47 1.35L5.41 20z\"/>\n",
              "  </svg>\n",
              "      </button>\n",
              "      \n",
              "  <style>\n",
              "    .colab-df-container {\n",
              "      display:flex;\n",
              "      flex-wrap:wrap;\n",
              "      gap: 12px;\n",
              "    }\n",
              "\n",
              "    .colab-df-convert {\n",
              "      background-color: #E8F0FE;\n",
              "      border: none;\n",
              "      border-radius: 50%;\n",
              "      cursor: pointer;\n",
              "      display: none;\n",
              "      fill: #1967D2;\n",
              "      height: 32px;\n",
              "      padding: 0 0 0 0;\n",
              "      width: 32px;\n",
              "    }\n",
              "\n",
              "    .colab-df-convert:hover {\n",
              "      background-color: #E2EBFA;\n",
              "      box-shadow: 0px 1px 2px rgba(60, 64, 67, 0.3), 0px 1px 3px 1px rgba(60, 64, 67, 0.15);\n",
              "      fill: #174EA6;\n",
              "    }\n",
              "\n",
              "    [theme=dark] .colab-df-convert {\n",
              "      background-color: #3B4455;\n",
              "      fill: #D2E3FC;\n",
              "    }\n",
              "\n",
              "    [theme=dark] .colab-df-convert:hover {\n",
              "      background-color: #434B5C;\n",
              "      box-shadow: 0px 1px 3px 1px rgba(0, 0, 0, 0.15);\n",
              "      filter: drop-shadow(0px 1px 2px rgba(0, 0, 0, 0.3));\n",
              "      fill: #FFFFFF;\n",
              "    }\n",
              "  </style>\n",
              "\n",
              "      <script>\n",
              "        const buttonEl =\n",
              "          document.querySelector('#df-b62589c9-a819-479d-bf0f-cceebf608bb7 button.colab-df-convert');\n",
              "        buttonEl.style.display =\n",
              "          google.colab.kernel.accessAllowed ? 'block' : 'none';\n",
              "\n",
              "        async function convertToInteractive(key) {\n",
              "          const element = document.querySelector('#df-b62589c9-a819-479d-bf0f-cceebf608bb7');\n",
              "          const dataTable =\n",
              "            await google.colab.kernel.invokeFunction('convertToInteractive',\n",
              "                                                     [key], {});\n",
              "          if (!dataTable) return;\n",
              "\n",
              "          const docLinkHtml = 'Like what you see? Visit the ' +\n",
              "            '<a target=\"_blank\" href=https://colab.research.google.com/notebooks/data_table.ipynb>data table notebook</a>'\n",
              "            + ' to learn more about interactive tables.';\n",
              "          element.innerHTML = '';\n",
              "          dataTable['output_type'] = 'display_data';\n",
              "          await google.colab.output.renderOutput(dataTable, element);\n",
              "          const docLink = document.createElement('div');\n",
              "          docLink.innerHTML = docLinkHtml;\n",
              "          element.appendChild(docLink);\n",
              "        }\n",
              "      </script>\n",
              "    </div>\n",
              "  </div>\n",
              "  "
            ]
          },
          "metadata": {},
          "execution_count": 8
        }
      ],
      "source": [
        "import pandas as pd\n",
        "import numpy as np \n",
        "import matplotlib.pyplot as plt \n",
        "import seaborn as sns\n",
        "%matplotlib inline\n",
        "df = pd.read_csv('https://raw.githubusercontent.com/srikanth1998/DAV-5400/master/diamonds.csv')\n",
        "df.head()"
      ]
    },
    {
      "cell_type": "code",
      "execution_count": 9,
      "id": "7a4e927a",
      "metadata": {
        "colab": {
          "base_uri": "https://localhost:8080/",
          "height": 300
        },
        "id": "7a4e927a",
        "outputId": "e5670871-8b06-4bcd-f61d-90dee8403606"
      },
      "outputs": [
        {
          "output_type": "execute_result",
          "data": {
            "text/plain": [
              "              carat         depth         table         price             x  \\\n",
              "count  53940.000000  53940.000000  53940.000000  53940.000000  53940.000000   \n",
              "mean       0.797940     61.749405     57.457184   3932.799722      5.731157   \n",
              "std        0.474011      1.432621      2.234491   3989.439738      1.121761   \n",
              "min        0.200000     43.000000     43.000000    326.000000      0.000000   \n",
              "25%        0.400000     61.000000     56.000000    950.000000      4.710000   \n",
              "50%        0.700000     61.800000     57.000000   2401.000000      5.700000   \n",
              "75%        1.040000     62.500000     59.000000   5324.250000      6.540000   \n",
              "max        5.010000     79.000000     95.000000  18823.000000     10.740000   \n",
              "\n",
              "                  y             z  \n",
              "count  53940.000000  53940.000000  \n",
              "mean       5.734526      3.538734  \n",
              "std        1.142135      0.705699  \n",
              "min        0.000000      0.000000  \n",
              "25%        4.720000      2.910000  \n",
              "50%        5.710000      3.530000  \n",
              "75%        6.540000      4.040000  \n",
              "max       58.900000     31.800000  "
            ],
            "text/html": [
              "\n",
              "  <div id=\"df-9dcbb72c-dd63-486d-82f7-1952f4defe71\">\n",
              "    <div class=\"colab-df-container\">\n",
              "      <div>\n",
              "<style scoped>\n",
              "    .dataframe tbody tr th:only-of-type {\n",
              "        vertical-align: middle;\n",
              "    }\n",
              "\n",
              "    .dataframe tbody tr th {\n",
              "        vertical-align: top;\n",
              "    }\n",
              "\n",
              "    .dataframe thead th {\n",
              "        text-align: right;\n",
              "    }\n",
              "</style>\n",
              "<table border=\"1\" class=\"dataframe\">\n",
              "  <thead>\n",
              "    <tr style=\"text-align: right;\">\n",
              "      <th></th>\n",
              "      <th>carat</th>\n",
              "      <th>depth</th>\n",
              "      <th>table</th>\n",
              "      <th>price</th>\n",
              "      <th>x</th>\n",
              "      <th>y</th>\n",
              "      <th>z</th>\n",
              "    </tr>\n",
              "  </thead>\n",
              "  <tbody>\n",
              "    <tr>\n",
              "      <th>count</th>\n",
              "      <td>53940.000000</td>\n",
              "      <td>53940.000000</td>\n",
              "      <td>53940.000000</td>\n",
              "      <td>53940.000000</td>\n",
              "      <td>53940.000000</td>\n",
              "      <td>53940.000000</td>\n",
              "      <td>53940.000000</td>\n",
              "    </tr>\n",
              "    <tr>\n",
              "      <th>mean</th>\n",
              "      <td>0.797940</td>\n",
              "      <td>61.749405</td>\n",
              "      <td>57.457184</td>\n",
              "      <td>3932.799722</td>\n",
              "      <td>5.731157</td>\n",
              "      <td>5.734526</td>\n",
              "      <td>3.538734</td>\n",
              "    </tr>\n",
              "    <tr>\n",
              "      <th>std</th>\n",
              "      <td>0.474011</td>\n",
              "      <td>1.432621</td>\n",
              "      <td>2.234491</td>\n",
              "      <td>3989.439738</td>\n",
              "      <td>1.121761</td>\n",
              "      <td>1.142135</td>\n",
              "      <td>0.705699</td>\n",
              "    </tr>\n",
              "    <tr>\n",
              "      <th>min</th>\n",
              "      <td>0.200000</td>\n",
              "      <td>43.000000</td>\n",
              "      <td>43.000000</td>\n",
              "      <td>326.000000</td>\n",
              "      <td>0.000000</td>\n",
              "      <td>0.000000</td>\n",
              "      <td>0.000000</td>\n",
              "    </tr>\n",
              "    <tr>\n",
              "      <th>25%</th>\n",
              "      <td>0.400000</td>\n",
              "      <td>61.000000</td>\n",
              "      <td>56.000000</td>\n",
              "      <td>950.000000</td>\n",
              "      <td>4.710000</td>\n",
              "      <td>4.720000</td>\n",
              "      <td>2.910000</td>\n",
              "    </tr>\n",
              "    <tr>\n",
              "      <th>50%</th>\n",
              "      <td>0.700000</td>\n",
              "      <td>61.800000</td>\n",
              "      <td>57.000000</td>\n",
              "      <td>2401.000000</td>\n",
              "      <td>5.700000</td>\n",
              "      <td>5.710000</td>\n",
              "      <td>3.530000</td>\n",
              "    </tr>\n",
              "    <tr>\n",
              "      <th>75%</th>\n",
              "      <td>1.040000</td>\n",
              "      <td>62.500000</td>\n",
              "      <td>59.000000</td>\n",
              "      <td>5324.250000</td>\n",
              "      <td>6.540000</td>\n",
              "      <td>6.540000</td>\n",
              "      <td>4.040000</td>\n",
              "    </tr>\n",
              "    <tr>\n",
              "      <th>max</th>\n",
              "      <td>5.010000</td>\n",
              "      <td>79.000000</td>\n",
              "      <td>95.000000</td>\n",
              "      <td>18823.000000</td>\n",
              "      <td>10.740000</td>\n",
              "      <td>58.900000</td>\n",
              "      <td>31.800000</td>\n",
              "    </tr>\n",
              "  </tbody>\n",
              "</table>\n",
              "</div>\n",
              "      <button class=\"colab-df-convert\" onclick=\"convertToInteractive('df-9dcbb72c-dd63-486d-82f7-1952f4defe71')\"\n",
              "              title=\"Convert this dataframe to an interactive table.\"\n",
              "              style=\"display:none;\">\n",
              "        \n",
              "  <svg xmlns=\"http://www.w3.org/2000/svg\" height=\"24px\"viewBox=\"0 0 24 24\"\n",
              "       width=\"24px\">\n",
              "    <path d=\"M0 0h24v24H0V0z\" fill=\"none\"/>\n",
              "    <path d=\"M18.56 5.44l.94 2.06.94-2.06 2.06-.94-2.06-.94-.94-2.06-.94 2.06-2.06.94zm-11 1L8.5 8.5l.94-2.06 2.06-.94-2.06-.94L8.5 2.5l-.94 2.06-2.06.94zm10 10l.94 2.06.94-2.06 2.06-.94-2.06-.94-.94-2.06-.94 2.06-2.06.94z\"/><path d=\"M17.41 7.96l-1.37-1.37c-.4-.4-.92-.59-1.43-.59-.52 0-1.04.2-1.43.59L10.3 9.45l-7.72 7.72c-.78.78-.78 2.05 0 2.83L4 21.41c.39.39.9.59 1.41.59.51 0 1.02-.2 1.41-.59l7.78-7.78 2.81-2.81c.8-.78.8-2.07 0-2.86zM5.41 20L4 18.59l7.72-7.72 1.47 1.35L5.41 20z\"/>\n",
              "  </svg>\n",
              "      </button>\n",
              "      \n",
              "  <style>\n",
              "    .colab-df-container {\n",
              "      display:flex;\n",
              "      flex-wrap:wrap;\n",
              "      gap: 12px;\n",
              "    }\n",
              "\n",
              "    .colab-df-convert {\n",
              "      background-color: #E8F0FE;\n",
              "      border: none;\n",
              "      border-radius: 50%;\n",
              "      cursor: pointer;\n",
              "      display: none;\n",
              "      fill: #1967D2;\n",
              "      height: 32px;\n",
              "      padding: 0 0 0 0;\n",
              "      width: 32px;\n",
              "    }\n",
              "\n",
              "    .colab-df-convert:hover {\n",
              "      background-color: #E2EBFA;\n",
              "      box-shadow: 0px 1px 2px rgba(60, 64, 67, 0.3), 0px 1px 3px 1px rgba(60, 64, 67, 0.15);\n",
              "      fill: #174EA6;\n",
              "    }\n",
              "\n",
              "    [theme=dark] .colab-df-convert {\n",
              "      background-color: #3B4455;\n",
              "      fill: #D2E3FC;\n",
              "    }\n",
              "\n",
              "    [theme=dark] .colab-df-convert:hover {\n",
              "      background-color: #434B5C;\n",
              "      box-shadow: 0px 1px 3px 1px rgba(0, 0, 0, 0.15);\n",
              "      filter: drop-shadow(0px 1px 2px rgba(0, 0, 0, 0.3));\n",
              "      fill: #FFFFFF;\n",
              "    }\n",
              "  </style>\n",
              "\n",
              "      <script>\n",
              "        const buttonEl =\n",
              "          document.querySelector('#df-9dcbb72c-dd63-486d-82f7-1952f4defe71 button.colab-df-convert');\n",
              "        buttonEl.style.display =\n",
              "          google.colab.kernel.accessAllowed ? 'block' : 'none';\n",
              "\n",
              "        async function convertToInteractive(key) {\n",
              "          const element = document.querySelector('#df-9dcbb72c-dd63-486d-82f7-1952f4defe71');\n",
              "          const dataTable =\n",
              "            await google.colab.kernel.invokeFunction('convertToInteractive',\n",
              "                                                     [key], {});\n",
              "          if (!dataTable) return;\n",
              "\n",
              "          const docLinkHtml = 'Like what you see? Visit the ' +\n",
              "            '<a target=\"_blank\" href=https://colab.research.google.com/notebooks/data_table.ipynb>data table notebook</a>'\n",
              "            + ' to learn more about interactive tables.';\n",
              "          element.innerHTML = '';\n",
              "          dataTable['output_type'] = 'display_data';\n",
              "          await google.colab.output.renderOutput(dataTable, element);\n",
              "          const docLink = document.createElement('div');\n",
              "          docLink.innerHTML = docLinkHtml;\n",
              "          element.appendChild(docLink);\n",
              "        }\n",
              "      </script>\n",
              "    </div>\n",
              "  </div>\n",
              "  "
            ]
          },
          "metadata": {},
          "execution_count": 9
        }
      ],
      "source": [
        "df1 = df.copy()\n",
        "df.describe()\n"
      ]
    },
    {
      "cell_type": "markdown",
      "source": [
        "**1.What proportion of diamonds are between .30 and 1.08 carats?**"
      ],
      "metadata": {
        "id": "jAfKRaK1VP14"
      },
      "id": "jAfKRaK1VP14"
    },
    {
      "cell_type": "code",
      "execution_count": 10,
      "id": "b3f8b6d5",
      "metadata": {
        "colab": {
          "base_uri": "https://localhost:8080/",
          "height": 227
        },
        "id": "b3f8b6d5",
        "outputId": "3da30a06-79e3-41da-e9f0-abbaef4310c0"
      },
      "outputs": [
        {
          "output_type": "stream",
          "name": "stdout",
          "text": [
            "Total Daimonds :  53940\n",
            "Total Daimonds which are between .30 and 1.08 carats :  40284\n",
            "Proportion of diamonds between .30 and 1.08 carats : 74.68%\n"
          ]
        },
        {
          "output_type": "execute_result",
          "data": {
            "text/plain": [
              "                                               Ideal       Premium  \\\n",
              "Total                                   21551.000000  13791.000000   \n",
              "Total %                                    39.953652     25.567297   \n",
              "Dimonads between 0.3 and 1.08 carats    17063.000000   9490.000000   \n",
              "Dimonads between 0.3 and 1.08 carats %     42.356767     23.557740   \n",
              "\n",
              "                                           Very Good         Good  \\\n",
              "Total                                   12082.000000  4906.000000   \n",
              "Total %                                    22.398962     9.095291   \n",
              "Dimonads between 0.3 and 1.08 carats     8731.000000  3843.000000   \n",
              "Dimonads between 0.3 and 1.08 carats %     21.673617     9.539768   \n",
              "\n",
              "                                               Fair    ToTal  \n",
              "Total                                   1610.000000  53940.0  \n",
              "Total %                                    2.984798    100.0  \n",
              "Dimonads between 0.3 and 1.08 carats    1157.000000  40284.0  \n",
              "Dimonads between 0.3 and 1.08 carats %     2.872108    100.0  "
            ],
            "text/html": [
              "\n",
              "  <div id=\"df-e8bfc664-256f-48d8-9243-4114e6c1e2d6\">\n",
              "    <div class=\"colab-df-container\">\n",
              "      <div>\n",
              "<style scoped>\n",
              "    .dataframe tbody tr th:only-of-type {\n",
              "        vertical-align: middle;\n",
              "    }\n",
              "\n",
              "    .dataframe tbody tr th {\n",
              "        vertical-align: top;\n",
              "    }\n",
              "\n",
              "    .dataframe thead th {\n",
              "        text-align: right;\n",
              "    }\n",
              "</style>\n",
              "<table border=\"1\" class=\"dataframe\">\n",
              "  <thead>\n",
              "    <tr style=\"text-align: right;\">\n",
              "      <th></th>\n",
              "      <th>Ideal</th>\n",
              "      <th>Premium</th>\n",
              "      <th>Very Good</th>\n",
              "      <th>Good</th>\n",
              "      <th>Fair</th>\n",
              "      <th>ToTal</th>\n",
              "    </tr>\n",
              "  </thead>\n",
              "  <tbody>\n",
              "    <tr>\n",
              "      <th>Total</th>\n",
              "      <td>21551.000000</td>\n",
              "      <td>13791.000000</td>\n",
              "      <td>12082.000000</td>\n",
              "      <td>4906.000000</td>\n",
              "      <td>1610.000000</td>\n",
              "      <td>53940.0</td>\n",
              "    </tr>\n",
              "    <tr>\n",
              "      <th>Total %</th>\n",
              "      <td>39.953652</td>\n",
              "      <td>25.567297</td>\n",
              "      <td>22.398962</td>\n",
              "      <td>9.095291</td>\n",
              "      <td>2.984798</td>\n",
              "      <td>100.0</td>\n",
              "    </tr>\n",
              "    <tr>\n",
              "      <th>Dimonads between 0.3 and 1.08 carats</th>\n",
              "      <td>17063.000000</td>\n",
              "      <td>9490.000000</td>\n",
              "      <td>8731.000000</td>\n",
              "      <td>3843.000000</td>\n",
              "      <td>1157.000000</td>\n",
              "      <td>40284.0</td>\n",
              "    </tr>\n",
              "    <tr>\n",
              "      <th>Dimonads between 0.3 and 1.08 carats %</th>\n",
              "      <td>42.356767</td>\n",
              "      <td>23.557740</td>\n",
              "      <td>21.673617</td>\n",
              "      <td>9.539768</td>\n",
              "      <td>2.872108</td>\n",
              "      <td>100.0</td>\n",
              "    </tr>\n",
              "  </tbody>\n",
              "</table>\n",
              "</div>\n",
              "      <button class=\"colab-df-convert\" onclick=\"convertToInteractive('df-e8bfc664-256f-48d8-9243-4114e6c1e2d6')\"\n",
              "              title=\"Convert this dataframe to an interactive table.\"\n",
              "              style=\"display:none;\">\n",
              "        \n",
              "  <svg xmlns=\"http://www.w3.org/2000/svg\" height=\"24px\"viewBox=\"0 0 24 24\"\n",
              "       width=\"24px\">\n",
              "    <path d=\"M0 0h24v24H0V0z\" fill=\"none\"/>\n",
              "    <path d=\"M18.56 5.44l.94 2.06.94-2.06 2.06-.94-2.06-.94-.94-2.06-.94 2.06-2.06.94zm-11 1L8.5 8.5l.94-2.06 2.06-.94-2.06-.94L8.5 2.5l-.94 2.06-2.06.94zm10 10l.94 2.06.94-2.06 2.06-.94-2.06-.94-.94-2.06-.94 2.06-2.06.94z\"/><path d=\"M17.41 7.96l-1.37-1.37c-.4-.4-.92-.59-1.43-.59-.52 0-1.04.2-1.43.59L10.3 9.45l-7.72 7.72c-.78.78-.78 2.05 0 2.83L4 21.41c.39.39.9.59 1.41.59.51 0 1.02-.2 1.41-.59l7.78-7.78 2.81-2.81c.8-.78.8-2.07 0-2.86zM5.41 20L4 18.59l7.72-7.72 1.47 1.35L5.41 20z\"/>\n",
              "  </svg>\n",
              "      </button>\n",
              "      \n",
              "  <style>\n",
              "    .colab-df-container {\n",
              "      display:flex;\n",
              "      flex-wrap:wrap;\n",
              "      gap: 12px;\n",
              "    }\n",
              "\n",
              "    .colab-df-convert {\n",
              "      background-color: #E8F0FE;\n",
              "      border: none;\n",
              "      border-radius: 50%;\n",
              "      cursor: pointer;\n",
              "      display: none;\n",
              "      fill: #1967D2;\n",
              "      height: 32px;\n",
              "      padding: 0 0 0 0;\n",
              "      width: 32px;\n",
              "    }\n",
              "\n",
              "    .colab-df-convert:hover {\n",
              "      background-color: #E2EBFA;\n",
              "      box-shadow: 0px 1px 2px rgba(60, 64, 67, 0.3), 0px 1px 3px 1px rgba(60, 64, 67, 0.15);\n",
              "      fill: #174EA6;\n",
              "    }\n",
              "\n",
              "    [theme=dark] .colab-df-convert {\n",
              "      background-color: #3B4455;\n",
              "      fill: #D2E3FC;\n",
              "    }\n",
              "\n",
              "    [theme=dark] .colab-df-convert:hover {\n",
              "      background-color: #434B5C;\n",
              "      box-shadow: 0px 1px 3px 1px rgba(0, 0, 0, 0.15);\n",
              "      filter: drop-shadow(0px 1px 2px rgba(0, 0, 0, 0.3));\n",
              "      fill: #FFFFFF;\n",
              "    }\n",
              "  </style>\n",
              "\n",
              "      <script>\n",
              "        const buttonEl =\n",
              "          document.querySelector('#df-e8bfc664-256f-48d8-9243-4114e6c1e2d6 button.colab-df-convert');\n",
              "        buttonEl.style.display =\n",
              "          google.colab.kernel.accessAllowed ? 'block' : 'none';\n",
              "\n",
              "        async function convertToInteractive(key) {\n",
              "          const element = document.querySelector('#df-e8bfc664-256f-48d8-9243-4114e6c1e2d6');\n",
              "          const dataTable =\n",
              "            await google.colab.kernel.invokeFunction('convertToInteractive',\n",
              "                                                     [key], {});\n",
              "          if (!dataTable) return;\n",
              "\n",
              "          const docLinkHtml = 'Like what you see? Visit the ' +\n",
              "            '<a target=\"_blank\" href=https://colab.research.google.com/notebooks/data_table.ipynb>data table notebook</a>'\n",
              "            + ' to learn more about interactive tables.';\n",
              "          element.innerHTML = '';\n",
              "          dataTable['output_type'] = 'display_data';\n",
              "          await google.colab.output.renderOutput(dataTable, element);\n",
              "          const docLink = document.createElement('div');\n",
              "          docLink.innerHTML = docLinkHtml;\n",
              "          element.appendChild(docLink);\n",
              "        }\n",
              "      </script>\n",
              "    </div>\n",
              "  </div>\n",
              "  "
            ]
          },
          "metadata": {},
          "execution_count": 10
        }
      ],
      "source": [
        "\n",
        "'''\n",
        "Explanation : \n",
        "\n",
        "Firstly printing out the Total diamonds count, Total Daimonds which are between .30 and 1.08 carats and Proportion of diamonds \n",
        "between .30 and 1.08 carats.\n",
        "\n",
        "Secondly, creating a Data frame df_1_1 to diaplay Total diamonds count and its percentage and Total diamonds count between\n",
        " .30 and 1.08 carats and its percentage with respective to 'cut column'\n",
        "'''\n",
        "\n",
        "\n",
        "#creating a new dataframe in which diamonds are between .30 and 1.08 carats\n",
        "df_1 = df[df['carat'].between(0.3,1.08)]\n",
        "\n",
        "#Displaying Total count of Diamonds\n",
        "print(\"Total Daimonds : \",len(df))\n",
        "print(\"Total Daimonds which are between .30 and 1.08 carats : \",len(df_1))\n",
        "\n",
        "#Displaying the percentage\n",
        "proportion = \"{:.2f}\".format((len(df_1)/len(df))*100)\n",
        "print(\"Proportion of diamonds between .30 and 1.08 carats : {0}%\".format(proportion))\n",
        "\n",
        "#creating a dictionary with value counts of 'cut' column of df\n",
        "cut = dict(df['cut'].value_counts())\n",
        "\n",
        "#creating a dictionary with value counts of 'cut' column of df_1\n",
        "cut_1 = dict(df_1['cut'].value_counts())\n",
        "\n",
        "#creating to empty lists\n",
        "percentage_cut = []\n",
        "percentage_cut_1 = []\n",
        "\n",
        "#appending the percentages of 'cut' values of df\n",
        "for i in cut.values():\n",
        "    ii = (i/len(df['carat']))*100\n",
        "    percentage_cut.append(ii)\n",
        "\n",
        "#appending the percentages of 'cut' values of df_1\n",
        "for i in cut_1.values():\n",
        "    ii = (i/len(df_1['carat']))*100\n",
        "    percentage_cut_1.append(ii)   \n",
        "    \n",
        "#creating a list of cut values for addding them a column names later\n",
        "col = list(cut.keys())\n",
        "col.append('ToTal')\n",
        "\n",
        "#creating a new dataframe df_1_1\n",
        "df_1_1 = pd.DataFrame(np.array([list(cut.values()),percentage_cut,list(cut_1.values()),percentage_cut_1]), \n",
        "                     index = ['Total', 'Total %', 'Dimonads between 0.3 and 1.08 carats' , 'Dimonads between 0.3 and 1.08 carats %'])\n",
        "\n",
        "#transposing the dataframe to append the below dataframe\n",
        "df_1_1 = df_1_1.transpose()\n",
        "\n",
        "#creating a new dataframe df_1_2\n",
        "df_1_2 = {'Total' : sum(df_1_1['Total']), \n",
        "          'Total %' : sum(df_1_1['Total %']), \n",
        "          'Dimonads between 0.3 and 1.08 carats' : sum(df_1_1['Dimonads between 0.3 and 1.08 carats']), \n",
        "          'Dimonads between 0.3 and 1.08 carats %' : sum(df_1_1['Dimonads between 0.3 and 1.08 carats %'])} \n",
        "\n",
        "#appending the above dataframe df_1_1with df_1_2\n",
        "df_1_1 = df_1_1.append(df_1_2, ignore_index=True)\n",
        "\n",
        "#transposing the dataframe to add column names\n",
        "df_1_1 = df_1_1.transpose()\n",
        "\n",
        "#adding column names\n",
        "df_1_1.set_axis(col,axis=1,inplace=True)\n",
        "\n",
        "#print the dataframe df_1_1\n",
        "df_1_1"
      ]
    },
    {
      "cell_type": "markdown",
      "source": [
        "**2.How many of the diamonds have equal x and y dimensions?**"
      ],
      "metadata": {
        "id": "9zvKqnKWVacY"
      },
      "id": "9zvKqnKWVacY"
    },
    {
      "cell_type": "code",
      "execution_count": 11,
      "id": "b8b80c21",
      "metadata": {
        "colab": {
          "base_uri": "https://localhost:8080/"
        },
        "id": "b8b80c21",
        "outputId": "66a4b4a3-96c3-44e9-9389-51377e53fca2"
      },
      "outputs": [
        {
          "output_type": "stream",
          "name": "stdout",
          "text": [
            "Total no of diamonds which have equal length(x) and width(y) dimensions : 17\n"
          ]
        }
      ],
      "source": [
        "'''\n",
        "Explanation : \n",
        "Column 'x' (length ) and Column 'y' (width ) are comapred to each other and the rows which have equal vales of 'x' and 'y' \n",
        "are stored in other dataframe df_2. The length of df_2 is printed to know the count of Diamaonds which have equal x and y \n",
        "dimensions.\n",
        "'''\n",
        "\n",
        "#crating a new dataframe in which diamonds have equal length(x) and width(y) dimensions\n",
        "df_2 = df[df['x'] == df['y']]\n",
        "\n",
        "print(\"Total no of diamonds which have equal length(x) and width(y) dimensions :\", len(df_2))"
      ]
    },
    {
      "cell_type": "markdown",
      "source": [
        "**3.How many of the diamonds have a carat less than the mean carat value?**\n",
        "\n"
      ],
      "metadata": {
        "id": "C94WVs7ZVj2u"
      },
      "id": "C94WVs7ZVj2u"
    },
    {
      "cell_type": "code",
      "execution_count": 12,
      "id": "533775ff",
      "metadata": {
        "colab": {
          "base_uri": "https://localhost:8080/"
        },
        "id": "533775ff",
        "outputId": "464d62f3-f839-4b67-ce8d-18ee57c22535"
      },
      "outputs": [
        {
          "output_type": "stream",
          "name": "stdout",
          "text": [
            "Total no of diamonds which have a carat less than the mean carat value : 31127\n"
          ]
        }
      ],
      "source": [
        "'''\n",
        "Explanation : A new variable is created which has the mean value of the column 'carat'. A new Dataframe is created df_3_1 \n",
        "which has the rows which lower than the mean 'carat' value. The length of df_3 is printed to know the count of Diamaonds \n",
        "which have a carat less than the mean carat value.\n",
        "'''\n",
        "\n",
        "#copying the main dataframe \n",
        "df_3 = df.copy()\n",
        "\n",
        "#storing the mean value of the column 'carat'\n",
        "mean_df_3 = df_3['carat'].mean()\n",
        "\n",
        "#creating a new dataframe in which diamonds have a carat less than the mean carat value\n",
        "df_3_1 = df_3[df_3['carat'] < mean_df_3]\n",
        "\n",
        "print(\"Total no of diamonds which have a carat less than the mean carat value :\", len(df_3_1))"
      ]
    },
    {
      "cell_type": "markdown",
      "source": [
        "**4.How many diamonds have a Premium cut or better? Note that the possible values for the quality of a \n",
        "cut are ranked in ascending order as follows: Fair / Good / Very Good / Premium / Ideal**\n",
        "\n"
      ],
      "metadata": {
        "id": "s1kTw45GVu67"
      },
      "id": "s1kTw45GVu67"
    },
    {
      "cell_type": "code",
      "execution_count": 24,
      "id": "485e5540",
      "metadata": {
        "colab": {
          "base_uri": "https://localhost:8080/"
        },
        "id": "485e5540",
        "outputId": "1aee3aed-d4bf-40d8-b866-0119393b5fd9"
      },
      "outputs": [
        {
          "output_type": "stream",
          "name": "stdout",
          "text": [
            "From what cut count of Diamonds you would like to see : Good\n",
            "Total diamonds in Good cut are : 4906\n",
            "Total diamonds in Very Good cut are : 12082\n",
            "Total diamonds in Premium cut are : 13791\n",
            "Total diamonds in Ideal cut are : 21551\n",
            "Total diamonds have aGoodor better cut are : 52330\n"
          ]
        }
      ],
      "source": [
        "\n",
        "'''\n",
        "Explanation : \n",
        "An user input of the Column 'cut' value is taken. Total count of diamonds is displayed from the user input to the highes ranked \n",
        "column 'cut' value.\n",
        "'''\n",
        "\n",
        "\n",
        "#copying the main dataframe \n",
        "df_4 = df.copy()\n",
        "\n",
        "#creating a list of 'cut' column values\n",
        "list_df_4 = ['Fair','Good','Very Good','Premium','Ideal']\n",
        "\n",
        "#take the 'cut' column value as input \n",
        "input_df_4 = input(\"From what cut count of Diamonds you would like to see : \")\n",
        "\n",
        "# 'i' is the index value of the input string from list_df_4 \n",
        "i = list_df_4.index(input_df_4)\n",
        "total = 0\n",
        "# while loop helps to print the diamond count\n",
        "while(i<5):\n",
        "    print('Total diamonds in ' + str(list_df_4[i]) + ' cut are : ' + str(df_4['cut'].value_counts()[list_df_4][i]))\n",
        "    total = total + df_4['cut'].value_counts()[list_df_4][i]\n",
        "    i = i + 1\n",
        "print('Total diamonds have a' + input_df_4 + 'or better cut are : ' + str(total))\n",
        " "
      ]
    },
    {
      "cell_type": "markdown",
      "source": [
        "**5.Which diamond has the highest price per carat? What is its value?**\n"
      ],
      "metadata": {
        "id": "ni_ZBqMmV2W-"
      },
      "id": "ni_ZBqMmV2W-"
    },
    {
      "cell_type": "code",
      "execution_count": 25,
      "id": "f948832e",
      "metadata": {
        "colab": {
          "base_uri": "https://localhost:8080/"
        },
        "id": "f948832e",
        "outputId": "7348160f-c46a-4ffd-fca0-6f5886a3218f"
      },
      "outputs": [
        {
          "output_type": "stream",
          "name": "stdout",
          "text": [
            "Diamond which has the highest price per carat : 17828.846153846152\n",
            "Index of the diamond which has the highest price per carat : 27635\n"
          ]
        }
      ],
      "source": [
        "\n",
        "'''\n",
        "Explanation : \n",
        "A new column 'Price per Carat' is added to the existing Dataframe df_5 which contains the values of price per carat. \n",
        "Diamond adn its index which has highest price per carat is displayed.\n",
        "column 'cut' value.\n",
        "'''\n",
        "\n",
        "#copying the main dataframe \n",
        "df_5 = df.copy()\n",
        "\n",
        "#adding a new column 'Price per Carat' \n",
        "df_5['Price per Carat'] = list(df['price']/df['carat'])\n",
        "\n",
        "print('Diamond which has the highest price per carat :', df_5['Price per Carat'].max())\n",
        "print('Index of the diamond which has the highest price per carat :', df_5['Price per Carat'].idxmax())\n",
        "\n"
      ]
    },
    {
      "cell_type": "markdown",
      "source": [
        "**6.Make a bar plot of the ‘cut’ data. What does it tell us about the frequencies of the individual cut values within the \n",
        "data set?**\n"
      ],
      "metadata": {
        "id": "JnUmN4JyV-VK"
      },
      "id": "JnUmN4JyV-VK"
    },
    {
      "cell_type": "code",
      "execution_count": 26,
      "id": "e37b0c7d",
      "metadata": {
        "colab": {
          "base_uri": "https://localhost:8080/",
          "height": 296
        },
        "id": "e37b0c7d",
        "outputId": "acb4cc57-91b1-4423-d988-5dc736d54ca8"
      },
      "outputs": [
        {
          "output_type": "stream",
          "name": "stdout",
          "text": [
            "Values and its count of 'cut' column :  {'Ideal': 21551, 'Premium': 13791, 'Very Good': 12082, 'Good': 4906, 'Fair': 1610}\n"
          ]
        },
        {
          "output_type": "display_data",
          "data": {
            "text/plain": [
              "<Figure size 432x288 with 1 Axes>"
            ],
            "image/png": "[encoded data removed]"
          },
          "metadata": {
            "needs_background": "light"
          }
        }
      ],
      "source": [
        "'''\n",
        "Explanation : \n",
        "A Dictionary of column 'cut' is created with its values and value counts. Using the dictionary, a bar plot is created.\n",
        "'''\n",
        "\n",
        "#copying the main dataframe \n",
        "df_6 = df.copy()\n",
        "\n",
        "#creating a dictionary of 'cut' column\n",
        "dict_df_6 = dict(df_6['cut'].value_counts())\n",
        "\n",
        "#printing dictionary dict_df_6 keys and values\n",
        "print(\"Values and its count of 'cut' column : \", dict_df_6)\n",
        "\n",
        "#converting dictionary keys and values into list and soring them in x and y respectively \n",
        "x = list(dict_df_6.keys())\n",
        "y = list(dict_df_6.values())\n",
        "\n",
        "#Adding names for color, x-axis and y-axis \n",
        "color = ['green', 'blue', 'black', 'red', 'yellow']\n",
        "plt.ylabel(\"Diamonds count\")\n",
        "plt.xlabel(\"Cut\")\n",
        "\n",
        "#Bar plot of 'cut' data\n",
        "plt.bar(x,y,color=color,width=0.5)\n",
        "plt.show()"
      ]
    },
    {
      "cell_type": "markdown",
      "source": [
        "**7.Make boxplots of the diamond price for each cut and discuss any conclusions you can draw from the appearance of the boxplots.**\n"
      ],
      "metadata": {
        "id": "7MbZw-vQWGMB"
      },
      "id": "7MbZw-vQWGMB"
    },
    {
      "cell_type": "code",
      "execution_count": null,
      "id": "c1072105",
      "metadata": {
        "id": "c1072105",
        "outputId": "f4500a19-4424-4d6f-b086-d476aee00243"
      },
      "outputs": [
        {
          "data": {
            "image/png": "[encoded data removed]",
            "text/plain": [
              "<Figure size 864x864 with 1 Axes>"
            ]
          },
          "metadata": {
            "needs_background": "light"
          },
          "output_type": "display_data"
        }
      ],
      "source": [
        "'''\n",
        "Explanation : \n",
        "A list is created for each value of column 'cut' with its repective prices. Total 5 list are created.\n",
        "Using these lists, Box plot is created.\n",
        "'''\n",
        "#copying the main dataframe \n",
        "df_7 = df.copy()\n",
        "\n",
        "#Setting figure size\n",
        "plt.figure(figsize=[12,12])\n",
        "\n",
        "''''cut' column - Fair'''\n",
        "#creating a new Dataframe df_7_fair and a list with price values of 'Fair'\n",
        "df_7_fair = df_7[df_7['cut'] == 'Fair']\n",
        "fair_price = list(df_7_fair['price'])\n",
        "\n",
        "''''cut' column - Good'''\n",
        "#creating a new Dataframe df_7_good and a list with price values of 'Good'\n",
        "df_7_good = df_7[df_7['cut'] == 'Good']\n",
        "good_price = list(df_7_good['price'])\n",
        "\n",
        "''''cut' column - Very Good'''\n",
        "#creating a new Dataframe df_7_verygood and a list with price values of 'Very Good'\n",
        "df_7_verygood = df_7[df_7['cut'] == 'Very Good']\n",
        "verygood_price = list(df_7_verygood['price'])\n",
        "\n",
        "''''cut' column - Premium'''\n",
        "#creating a new Dataframe df_7_premium and a list with price values of 'Premium'\n",
        "df_7_premium = df_7[df_7['cut'] == 'Premium']\n",
        "premium_price = list(df_7_premium['price'])\n",
        "\n",
        "''''cut' column - Ideal'''\n",
        "#creating a new Dataframe df_7_ideal and a list with price values of 'Ideal'\n",
        "df_7_ideal = df_7[df_7['cut'] == 'Ideal']\n",
        "ideal_price = list(df_7_ideal['price'])\n",
        "\n",
        "#BOX plot\n",
        "box = plt.boxplot([fair_price, good_price, verygood_price, premium_price, ideal_price], \n",
        "            patch_artist = True, notch = True,\n",
        "            labels = ['Fair','Good','Very Good','Premium','Ideal'])\n",
        "\n",
        "#setting colors\n",
        "colors = ['cyan' , 'violet' , 'coral' , 'blue' , 'red']\n",
        "for patch , color in zip (box['boxes'], colors):\n",
        "    patch.set_facecolor(color)\n",
        "\n",
        "plt.show()\n",
        "\n",
        "# After seeing the box plot, a lot of outliers are observed. \n",
        "# These Outliers can be removed in Data cleaning process and then feed the clean dataset to the algorithm for accurate results"
      ]
    },
    {
      "cell_type": "markdown",
      "source": [
        "**8.Make histograms of the length, width, depth, and total depth attributes and discuss any conclusions\n",
        "you can draw from the shape of the resulting distributions.**\n"
      ],
      "metadata": {
        "id": "q-9R6gUdWa76"
      },
      "id": "q-9R6gUdWa76"
    },
    {
      "cell_type": "code",
      "execution_count": null,
      "id": "f2bb4a48",
      "metadata": {
        "id": "f2bb4a48",
        "outputId": "44b076be-050e-4901-974d-cb83ce09370d"
      },
      "outputs": [
        {
          "data": {
            "text/plain": [
              "Text(0.5, 1.0, 'Distribution of Diamond depth percentage')"
            ]
          },
          "execution_count": 26,
          "metadata": {},
          "output_type": "execute_result"
        },
        {
          "data": {
            "image/png": "[encoded data removed]",
            "text/plain": [
              "<Figure size 864x864 with 4 Axes>"
            ]
          },
          "metadata": {
            "needs_background": "light"
          },
          "output_type": "display_data"
        }
      ],
      "source": [
        "'''\n",
        "Explanation : \n",
        "Histograms of the length, width, depth, and total depth attributes are created.\n",
        "'''\n",
        "\n",
        "\n",
        "#copying the main dataframe \n",
        "df_8 = df.copy()\n",
        "\n",
        "#Setting figure size\n",
        "plt.figure(figsize=[12,12])\n",
        "\n",
        "'''Length histogram'''\n",
        "\n",
        "#Add a subplot to the current figure.\n",
        "plt.subplot(221)\n",
        "\n",
        "#histogram of the length\n",
        "plt.hist(df_8['x'],bins=20,color='salmon')\n",
        "\n",
        "#Adding names for x-axis ,y-axis and title\n",
        "plt.xlabel('Diamond length')\n",
        "plt.ylabel('Frequency')\n",
        "plt.title('Distribution of Diamond length')\n",
        "\n",
        "\n",
        "'''Width histogram'''\n",
        "\n",
        "#Add a subplot to the current figure.\n",
        "plt.subplot(222)\n",
        "\n",
        "#histogram of the width\n",
        "plt.hist(df_8['y'],bins=20,color='royalblue')\n",
        "\n",
        "#Adding names for x-axis ,y-axis and title\n",
        "plt.xlabel('Diamond width')\n",
        "plt.ylabel('Frequency')\n",
        "plt.title('Distribution of Diamond width')\n",
        "\n",
        "\n",
        "'''Depth histogram'''\n",
        "\n",
        "#Add a subplot to the current figure.\n",
        "plt.subplot(223)\n",
        "\n",
        "#histogram of the depth\n",
        "plt.hist(df_8['z'],bins=20,color='lightseagreen')\n",
        "\n",
        "#Adding names for x-axis ,y-axis and title\n",
        "plt.xlabel('Diamond depth')\n",
        "plt.ylabel('Frequency')\n",
        "plt.title('Distribution of Diamond depth')\n",
        "\n",
        "\n",
        "'''Total depth histogram'''\n",
        "\n",
        "#Add a subplot to the current figure.\n",
        "plt.subplot(224)\n",
        "\n",
        "#histogram of the total depth histogram\n",
        "plt.hist(df_8['depth'],bins=20,color='black')\n",
        "\n",
        "#Adding names for x-axis ,y-axis and title\n",
        "plt.xlabel('Diamond depth percentage')\n",
        "plt.ylabel('Frequency')\n",
        "plt.title('Distribution of Diamond depth percentage')\n",
        "\n",
        "\n",
        "# write ur findings\n",
        "#Most of the diamonds length are in the range of 4 & 8 units and which form proper normal distribution curve\n",
        "#All the diamonds width are in the range of 1 and 10 length\n",
        "#Depth of the diamonds lies between 7 and 1 unit\n",
        "#Diamond depth percentage lies between 55 and 70, average diamond depth percentage has maxmium percentage\n"
      ]
    },
    {
      "cell_type": "markdown",
      "source": [
        "**9.Make a scatter plot of price vs. carat. What can we say about the relationship between those two attributes?**\n"
      ],
      "metadata": {
        "id": "41bY600GW0ZU"
      },
      "id": "41bY600GW0ZU"
    },
    {
      "cell_type": "code",
      "execution_count": null,
      "id": "a5c9fb19",
      "metadata": {
        "id": "a5c9fb19",
        "outputId": "01515cbe-3296-41dc-c94c-663b0aaf62e6"
      },
      "outputs": [
        {
          "data": {
            "image/png": "[encoded data removed]",
            "text/plain": [
              "<Figure size 864x864 with 1 Axes>"
            ]
          },
          "metadata": {
            "needs_background": "light"
          },
          "output_type": "display_data"
        }
      ],
      "source": [
        "'''\n",
        "Explanation : \n",
        "Scatter plot is created with carat as x-axis and price as y-axis.\n",
        "'''\n",
        "\n",
        "\n",
        "#copying the main dataframe \n",
        "df_9 = df.copy()\n",
        "\n",
        "#Setting figure size\n",
        "plt.figure(figsize=[12,12])\n",
        "\n",
        "#Adding names for x-axis and y-axis\n",
        "plt.ylabel('Price')\n",
        "plt.xlabel('Carat')\n",
        "\n",
        "#scatter plot of price vs. carat\n",
        "plt.scatter(df_9['carat'],df_9['price'],color = 'blue')\n",
        "plt.show()\n",
        "\n",
        "# relationship between price and carat -> if carat increase, price also increases (directly proportional)"
      ]
    }
  ],
  "metadata": {
    "kernelspec": {
      "display_name": "Python 3",
      "language": "python",
      "name": "python3"
    },
    "language_info": {
      "codemirror_mode": {
        "name": "ipython",
        "version": 3
      },
      "file_extension": ".py",
      "mimetype": "text/x-python",
      "name": "python",
      "nbconvert_exporter": "python",
      "pygments_lexer": "ipython3",
      "version": "3.8.8"
    },
    "colab": {
      "provenance": [],
      "collapsed_sections": [],
      "include_colab_link": true
    }
  },
  "nbformat": 4,
  "nbformat_minor": 5
}