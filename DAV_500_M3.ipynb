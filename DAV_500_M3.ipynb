{
  "nbformat": 4,
  "nbformat_minor": 0,
  "metadata": {
    "colab": {
      "provenance": [],
      "collapsed_sections": [],
      "authorship_tag": "ABX9TyOAYRGrJbWfO2vcmSuDQ/ab",
      "include_colab_link": true
    },
    "kernelspec": {
      "name": "python3",
      "display_name": "Python 3"
    },
    "language_info": {
      "name": "python"
    }
  },
  "cells": [
    {
      "cell_type": "markdown",
      "metadata": {
        "id": "view-in-github",
        "colab_type": "text"
      },
      "source": [
        "<a href=\"https://colab.research.google.com/github/srikanth1998/DAV-5400/blob/master/DAV_500_M3.ipynb\" target=\"_parent\"><img src=\"https://colab.research.google.com/assets/colab-badge.svg\" alt=\"Open In Colab\"/></a>"
      ]
    },
    {
      "cell_type": "markdown",
      "source": [
        "**DAV 5400 Module 2 Assignment**\n",
        "\n",
        "**Srikanth Burra**"
      ],
      "metadata": {
        "id": "e0-OBUsEJRLo"
      }
    },
    {
      "cell_type": "markdown",
      "source": [
        "**1. Your task is to replace each odd number with a value of -10 using only a single line of Python code.**"
      ],
      "metadata": {
        "id": "VZCivpQhDAfb"
      }
    },
    {
      "cell_type": "code",
      "source": [
        "#NumPy is a library for the Python programming language, adding support for large high-level mathematical functions to operate on these arrays. \n",
        "import numpy as np\n",
        "arr = np.array([0, 1, 2, 3, 4, 5, 6, 7, 8, 9])\n",
        "\n",
        "#if the functionality in the  sqare brakets get true then '-10' will be assigned to particular index\n",
        "arr[arr % 2  == 1] = -10\n",
        "\n",
        "#printing an array\n",
        "arr\n"
      ],
      "metadata": {
        "colab": {
          "base_uri": "https://localhost:8080/"
        },
        "id": "NjgLVh6YAjbY",
        "outputId": "d10c2813-d33d-4628-f9c9-6d2e95929190"
      },
      "execution_count": 15,
      "outputs": [
        {
          "output_type": "execute_result",
          "data": {
            "text/plain": [
              "array([  0, -10,   2, -10,   4, -10,   6, -10,   8, -10])"
            ]
          },
          "metadata": {},
          "execution_count": 15
        }
      ]
    },
    {
      "cell_type": "markdown",
      "source": [
        "**2. Your task is to convert that 1-dimensional array to a 2-dimensional array containing 2 rows using only a single line of Python code.**"
      ],
      "metadata": {
        "id": "3GfAcVoyDPZW"
      }
    },
    {
      "cell_type": "code",
      "source": [
        "arr = np.array([0,1,2,3,4,5,6,7,8,9])\n",
        "\n",
        "#resape is an inbuilt function, whic takes two parameters n1 and n2 , which converts aray into , n1 rows and n2 columns\n",
        "arr.reshape(2,5)"
      ],
      "metadata": {
        "colab": {
          "base_uri": "https://localhost:8080/"
        },
        "id": "2HtKSQ_TB2lD",
        "outputId": "3f3a64d0-55c7-4a15-cdd8-ddb2cbd83ab4"
      },
      "execution_count": 18,
      "outputs": [
        {
          "output_type": "execute_result",
          "data": {
            "text/plain": [
              "array([[0, 1, 2, 3, 4],\n",
              "       [5, 6, 7, 8, 9]])"
            ]
          },
          "metadata": {},
          "execution_count": 18
        }
      ]
    },
    {
      "cell_type": "markdown",
      "source": [
        "**3. Your task is to extract all items from that array that fall between 5 and 12 (inclusive) using only a single line of Python code**"
      ],
      "metadata": {
        "id": "R57RbbZUDT3D"
      }
    },
    {
      "cell_type": "code",
      "source": [
        "arr = np.array([0,1,2,3,4,5,6,7,8,9])\n",
        "\n",
        "#traversing through the array and checking the conditions and storing in te array\n",
        "arr[(arr >= 5) & (arr <= 12)] \n"
      ],
      "metadata": {
        "colab": {
          "base_uri": "https://localhost:8080/"
        },
        "id": "7rweFvWtA2ee",
        "outputId": "fbd0ce16-a25e-43df-82a1-272134420638"
      },
      "execution_count": 22,
      "outputs": [
        {
          "output_type": "execute_result",
          "data": {
            "text/plain": [
              "array([5, 6, 7, 8, 9])"
            ]
          },
          "metadata": {},
          "execution_count": 22
        }
      ]
    },
    {
      "cell_type": "markdown",
      "source": [
        "**4. Your task is to swap the first and second rows of that array using only a single line of Python code.**"
      ],
      "metadata": {
        "id": "RABkM2XgDtWi"
      }
    },
    {
      "cell_type": "code",
      "source": [
        "#arranging the 10 elements in 3x3 matrix\n",
        "arr = np.arange(9).reshape(3,3)\n",
        "\n",
        "#swaping matrix by row index, as 1->0 and 0->1\n",
        "arr[[1,0,2], :] \n"
      ],
      "metadata": {
        "colab": {
          "base_uri": "https://localhost:8080/"
        },
        "id": "poQ2cFILBkuf",
        "outputId": "73c0fded-430d-4e95-e44c-04ddc79ec01d"
      },
      "execution_count": 24,
      "outputs": [
        {
          "output_type": "execute_result",
          "data": {
            "text/plain": [
              "array([[0, 1, 2],\n",
              "       [3, 4, 5],\n",
              "       [6, 7, 8]])"
            ]
          },
          "metadata": {},
          "execution_count": 24
        }
      ]
    }
  ]
}