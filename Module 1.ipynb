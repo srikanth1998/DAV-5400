{
  "nbformat": 4,
  "nbformat_minor": 0,
  "metadata": {
    "colab": {
      "name": "Untitled12.ipynb",
      "provenance": [],
      "toc_visible": true,
      "authorship_tag": "ABX9TyNM5vdrlVrwKrWuQAuW/IqO",
      "include_colab_link": true
    },
    "kernelspec": {
      "name": "python3",
      "display_name": "Python 3"
    },
    "language_info": {
      "name": "python"
    }
  },
  "cells": [
    {
      "cell_type": "markdown",
      "metadata": {
        "id": "view-in-github",
        "colab_type": "text"
      },
      "source": [
        "<a href=\"https://colab.research.google.com/github/srikanth1998/DAV-5400/blob/master/Module%201.ipynb\" target=\"_parent\"><img src=\"https://colab.research.google.com/assets/colab-badge.svg\" alt=\"Open In Colab\"/></a>"
      ]
    },
    {
      "cell_type": "code",
      "metadata": {
        "colab": {
          "base_uri": "https://localhost:8080/"
        },
        "id": "c05NMYBg7-rj",
        "outputId": "d6f4e088-8870-424f-95a9-6d0399c40e57"
      },
      "source": [
        "from google.colab import drive\n",
        "\n",
        "drive.mount('/content/drive')"
      ],
      "execution_count": null,
      "outputs": [
        {
          "output_type": "stream",
          "text": [
            "Mounted at /content/drive\n"
          ],
          "name": "stdout"
        }
      ]
    },
    {
      "cell_type": "code",
      "metadata": {
        "colab": {
          "base_uri": "https://localhost:8080/",
          "height": 422
        },
        "id": "1hUwmpL95pN2",
        "outputId": "3b756207-c5a8-4807-b888-903dbc794cec"
      },
      "source": [
        "import numpy as np\n",
        "import pandas as pd\n",
        "from sklearn import linear_model\n",
        "\n",
        "\n",
        "df = pd.read_excel('/content/drive/My Drive/weatherHistory.xls')\n",
        "df"
      ],
      "execution_count": null,
      "outputs": [
        {
          "output_type": "execute_result",
          "data": {
            "text/html": [
              "<div>\n",
              "<style scoped>\n",
              "    .dataframe tbody tr th:only-of-type {\n",
              "        vertical-align: middle;\n",
              "    }\n",
              "\n",
              "    .dataframe tbody tr th {\n",
              "        vertical-align: top;\n",
              "    }\n",
              "\n",
              "    .dataframe thead th {\n",
              "        text-align: right;\n",
              "    }\n",
              "</style>\n",
              "<table border=\"1\" class=\"dataframe\">\n",
              "  <thead>\n",
              "    <tr style=\"text-align: right;\">\n",
              "      <th></th>\n",
              "      <th>dateTime</th>\n",
              "      <th>open</th>\n",
              "      <th>high</th>\n",
              "      <th>low</th>\n",
              "      <th>close</th>\n",
              "      <th>volume</th>\n",
              "    </tr>\n",
              "  </thead>\n",
              "  <tbody>\n",
              "    <tr>\n",
              "      <th>0</th>\n",
              "      <td>2020-03-06 09:07:00.0</td>\n",
              "      <td>27649.95</td>\n",
              "      <td>27649.95</td>\n",
              "      <td>27649.95</td>\n",
              "      <td>27649.95</td>\n",
              "      <td>0</td>\n",
              "    </tr>\n",
              "    <tr>\n",
              "      <th>1</th>\n",
              "      <td>2020-03-06 09:15:00.0</td>\n",
              "      <td>27508.55</td>\n",
              "      <td>27546.55</td>\n",
              "      <td>27201.30</td>\n",
              "      <td>27294.25</td>\n",
              "      <td>0</td>\n",
              "    </tr>\n",
              "    <tr>\n",
              "      <th>2</th>\n",
              "      <td>2020-03-06 09:16:00.0</td>\n",
              "      <td>27297.00</td>\n",
              "      <td>27436.10</td>\n",
              "      <td>27297.00</td>\n",
              "      <td>27421.35</td>\n",
              "      <td>0</td>\n",
              "    </tr>\n",
              "    <tr>\n",
              "      <th>3</th>\n",
              "      <td>2020-03-06 09:17:00.0</td>\n",
              "      <td>27415.70</td>\n",
              "      <td>27508.10</td>\n",
              "      <td>27411.35</td>\n",
              "      <td>27499.20</td>\n",
              "      <td>0</td>\n",
              "    </tr>\n",
              "    <tr>\n",
              "      <th>4</th>\n",
              "      <td>2020-03-06 09:18:00.0</td>\n",
              "      <td>27496.65</td>\n",
              "      <td>27515.30</td>\n",
              "      <td>27452.35</td>\n",
              "      <td>27505.95</td>\n",
              "      <td>0</td>\n",
              "    </tr>\n",
              "    <tr>\n",
              "      <th>...</th>\n",
              "      <td>...</td>\n",
              "      <td>...</td>\n",
              "      <td>...</td>\n",
              "      <td>...</td>\n",
              "      <td>...</td>\n",
              "      <td>...</td>\n",
              "    </tr>\n",
              "    <tr>\n",
              "      <th>65530</th>\n",
              "      <td>2020-11-18 09:48:00.0</td>\n",
              "      <td>29387.60</td>\n",
              "      <td>29392.20</td>\n",
              "      <td>29375.35</td>\n",
              "      <td>29380.45</td>\n",
              "      <td>0</td>\n",
              "    </tr>\n",
              "    <tr>\n",
              "      <th>65531</th>\n",
              "      <td>2020-11-18 09:49:00.0</td>\n",
              "      <td>29382.45</td>\n",
              "      <td>29405.35</td>\n",
              "      <td>29375.95</td>\n",
              "      <td>29401.75</td>\n",
              "      <td>0</td>\n",
              "    </tr>\n",
              "    <tr>\n",
              "      <th>65532</th>\n",
              "      <td>2020-11-18 09:50:00.0</td>\n",
              "      <td>29402.30</td>\n",
              "      <td>29431.15</td>\n",
              "      <td>29401.35</td>\n",
              "      <td>29425.00</td>\n",
              "      <td>0</td>\n",
              "    </tr>\n",
              "    <tr>\n",
              "      <th>65533</th>\n",
              "      <td>2020-11-18 09:51:00.0</td>\n",
              "      <td>29423.35</td>\n",
              "      <td>29454.45</td>\n",
              "      <td>29421.30</td>\n",
              "      <td>29451.20</td>\n",
              "      <td>0</td>\n",
              "    </tr>\n",
              "    <tr>\n",
              "      <th>65534</th>\n",
              "      <td>2020-11-18 09:52:00.0</td>\n",
              "      <td>29454.30</td>\n",
              "      <td>29463.60</td>\n",
              "      <td>29434.80</td>\n",
              "      <td>29434.80</td>\n",
              "      <td>0</td>\n",
              "    </tr>\n",
              "  </tbody>\n",
              "</table>\n",
              "<p>65535 rows × 6 columns</p>\n",
              "</div>"
            ],
            "text/plain": [
              "                    dateTime      open      high       low     close  volume\n",
              "0      2020-03-06 09:07:00.0  27649.95  27649.95  27649.95  27649.95       0\n",
              "1      2020-03-06 09:15:00.0  27508.55  27546.55  27201.30  27294.25       0\n",
              "2      2020-03-06 09:16:00.0  27297.00  27436.10  27297.00  27421.35       0\n",
              "3      2020-03-06 09:17:00.0  27415.70  27508.10  27411.35  27499.20       0\n",
              "4      2020-03-06 09:18:00.0  27496.65  27515.30  27452.35  27505.95       0\n",
              "...                      ...       ...       ...       ...       ...     ...\n",
              "65530  2020-11-18 09:48:00.0  29387.60  29392.20  29375.35  29380.45       0\n",
              "65531  2020-11-18 09:49:00.0  29382.45  29405.35  29375.95  29401.75       0\n",
              "65532  2020-11-18 09:50:00.0  29402.30  29431.15  29401.35  29425.00       0\n",
              "65533  2020-11-18 09:51:00.0  29423.35  29454.45  29421.30  29451.20       0\n",
              "65534  2020-11-18 09:52:00.0  29454.30  29463.60  29434.80  29434.80       0\n",
              "\n",
              "[65535 rows x 6 columns]"
            ]
          },
          "metadata": {
            "tags": []
          },
          "execution_count": 4
        }
      ]
    },
    {
      "cell_type": "code",
      "metadata": {
        "colab": {
          "base_uri": "https://localhost:8080/",
          "height": 362
        },
        "id": "dIurrUQG79md",
        "outputId": "1ee12c61-7ec4-408d-99c9-9cfa053306f4"
      },
      "source": [
        "df.head(10)"
      ],
      "execution_count": null,
      "outputs": [
        {
          "output_type": "execute_result",
          "data": {
            "text/html": [
              "<div>\n",
              "<style scoped>\n",
              "    .dataframe tbody tr th:only-of-type {\n",
              "        vertical-align: middle;\n",
              "    }\n",
              "\n",
              "    .dataframe tbody tr th {\n",
              "        vertical-align: top;\n",
              "    }\n",
              "\n",
              "    .dataframe thead th {\n",
              "        text-align: right;\n",
              "    }\n",
              "</style>\n",
              "<table border=\"1\" class=\"dataframe\">\n",
              "  <thead>\n",
              "    <tr style=\"text-align: right;\">\n",
              "      <th></th>\n",
              "      <th>dateTime</th>\n",
              "      <th>open</th>\n",
              "      <th>high</th>\n",
              "      <th>low</th>\n",
              "      <th>close</th>\n",
              "      <th>volume</th>\n",
              "    </tr>\n",
              "  </thead>\n",
              "  <tbody>\n",
              "    <tr>\n",
              "      <th>0</th>\n",
              "      <td>2020-03-06 09:07:00.0</td>\n",
              "      <td>27649.95</td>\n",
              "      <td>27649.95</td>\n",
              "      <td>27649.95</td>\n",
              "      <td>27649.95</td>\n",
              "      <td>0</td>\n",
              "    </tr>\n",
              "    <tr>\n",
              "      <th>1</th>\n",
              "      <td>2020-03-06 09:15:00.0</td>\n",
              "      <td>27508.55</td>\n",
              "      <td>27546.55</td>\n",
              "      <td>27201.30</td>\n",
              "      <td>27294.25</td>\n",
              "      <td>0</td>\n",
              "    </tr>\n",
              "    <tr>\n",
              "      <th>2</th>\n",
              "      <td>2020-03-06 09:16:00.0</td>\n",
              "      <td>27297.00</td>\n",
              "      <td>27436.10</td>\n",
              "      <td>27297.00</td>\n",
              "      <td>27421.35</td>\n",
              "      <td>0</td>\n",
              "    </tr>\n",
              "    <tr>\n",
              "      <th>3</th>\n",
              "      <td>2020-03-06 09:17:00.0</td>\n",
              "      <td>27415.70</td>\n",
              "      <td>27508.10</td>\n",
              "      <td>27411.35</td>\n",
              "      <td>27499.20</td>\n",
              "      <td>0</td>\n",
              "    </tr>\n",
              "    <tr>\n",
              "      <th>4</th>\n",
              "      <td>2020-03-06 09:18:00.0</td>\n",
              "      <td>27496.65</td>\n",
              "      <td>27515.30</td>\n",
              "      <td>27452.35</td>\n",
              "      <td>27505.95</td>\n",
              "      <td>0</td>\n",
              "    </tr>\n",
              "    <tr>\n",
              "      <th>5</th>\n",
              "      <td>2020-03-06 09:19:00.0</td>\n",
              "      <td>27504.80</td>\n",
              "      <td>27517.80</td>\n",
              "      <td>27408.40</td>\n",
              "      <td>27424.00</td>\n",
              "      <td>0</td>\n",
              "    </tr>\n",
              "    <tr>\n",
              "      <th>6</th>\n",
              "      <td>2020-03-06 09:20:00.0</td>\n",
              "      <td>27427.90</td>\n",
              "      <td>27427.90</td>\n",
              "      <td>27333.15</td>\n",
              "      <td>27411.95</td>\n",
              "      <td>0</td>\n",
              "    </tr>\n",
              "    <tr>\n",
              "      <th>7</th>\n",
              "      <td>2020-03-06 09:21:00.0</td>\n",
              "      <td>27408.15</td>\n",
              "      <td>27544.90</td>\n",
              "      <td>27408.15</td>\n",
              "      <td>27534.10</td>\n",
              "      <td>0</td>\n",
              "    </tr>\n",
              "    <tr>\n",
              "      <th>8</th>\n",
              "      <td>2020-03-06 09:22:00.0</td>\n",
              "      <td>27534.20</td>\n",
              "      <td>27549.30</td>\n",
              "      <td>27490.05</td>\n",
              "      <td>27513.00</td>\n",
              "      <td>0</td>\n",
              "    </tr>\n",
              "    <tr>\n",
              "      <th>9</th>\n",
              "      <td>2020-03-06 09:23:00.0</td>\n",
              "      <td>27506.50</td>\n",
              "      <td>27564.65</td>\n",
              "      <td>27456.55</td>\n",
              "      <td>27513.50</td>\n",
              "      <td>0</td>\n",
              "    </tr>\n",
              "  </tbody>\n",
              "</table>\n",
              "</div>"
            ],
            "text/plain": [
              "                dateTime      open      high       low     close  volume\n",
              "0  2020-03-06 09:07:00.0  27649.95  27649.95  27649.95  27649.95       0\n",
              "1  2020-03-06 09:15:00.0  27508.55  27546.55  27201.30  27294.25       0\n",
              "2  2020-03-06 09:16:00.0  27297.00  27436.10  27297.00  27421.35       0\n",
              "3  2020-03-06 09:17:00.0  27415.70  27508.10  27411.35  27499.20       0\n",
              "4  2020-03-06 09:18:00.0  27496.65  27515.30  27452.35  27505.95       0\n",
              "5  2020-03-06 09:19:00.0  27504.80  27517.80  27408.40  27424.00       0\n",
              "6  2020-03-06 09:20:00.0  27427.90  27427.90  27333.15  27411.95       0\n",
              "7  2020-03-06 09:21:00.0  27408.15  27544.90  27408.15  27534.10       0\n",
              "8  2020-03-06 09:22:00.0  27534.20  27549.30  27490.05  27513.00       0\n",
              "9  2020-03-06 09:23:00.0  27506.50  27564.65  27456.55  27513.50       0"
            ]
          },
          "metadata": {
            "tags": []
          },
          "execution_count": 9
        }
      ]
    },
    {
      "cell_type": "code",
      "metadata": {
        "colab": {
          "base_uri": "https://localhost:8080/",
          "height": 34
        },
        "id": "mfVa4GSVMrv6",
        "outputId": "8b4d2fe0-e093-45d5-8140-ee52ab2f7753"
      },
      "source": [
        "df.dateTime.loc[0]."
      ],
      "execution_count": null,
      "outputs": [
        {
          "output_type": "execute_result",
          "data": {
            "application/vnd.google.colaboratory.intrinsic+json": {
              "type": "string"
            },
            "text/plain": [
              "'2020-03-06 09:07:00.0'"
            ]
          },
          "metadata": {
            "tags": []
          },
          "execution_count": 6
        }
      ]
    },
    {
      "cell_type": "code",
      "metadata": {
        "colab": {
          "base_uri": "https://localhost:8080/"
        },
        "id": "bRa-9s50-fgr",
        "outputId": "0c182cba-f25b-4100-cb63-89595438ce8c"
      },
      "source": [
        "row2 = df.iloc[3] \n",
        "print(row2)"
      ],
      "execution_count": null,
      "outputs": [
        {
          "output_type": "stream",
          "text": [
            "dateTime    2020-03-06 09:17:00.0\n",
            "open                      27415.7\n",
            "high                      27508.1\n",
            "low                       27411.3\n",
            "close                     27499.2\n",
            "volume                          0\n",
            "Name: 3, dtype: object\n"
          ],
          "name": "stdout"
        }
      ]
    },
    {
      "cell_type": "code",
      "metadata": {
        "colab": {
          "base_uri": "https://localhost:8080/"
        },
        "id": "b5XO3_zCFhE-",
        "outputId": "6cc24ea6-954d-4f8c-9e43-bfe80c067287"
      },
      "source": [
        "import xlrd\n",
        "loc = ('/content/drive/My Drive/banknifty.xls')\n",
        "wb = xlrd.open_workbook(loc)\n",
        "sheet = wb.sheet_by_index(0)\n",
        "print(sheet.cell_value(2, 0))\n"
      ],
      "execution_count": null,
      "outputs": [
        {
          "output_type": "stream",
          "text": [
            "2020-03-06 09:15:00.0\n"
          ],
          "name": "stdout"
        }
      ]
    },
    {
      "cell_type": "code",
      "metadata": {
        "colab": {
          "base_uri": "https://localhost:8080/"
        },
        "id": "nAzUC1E4MH8f",
        "outputId": "25acbc8c-66a6-450d-fe9e-fc08d042404f"
      },
      "source": [
        "\n",
        "import pandas as pd\n",
        "import numpy as np\n",
        "  \n",
        "def main():\n",
        "     \n",
        "    # create a dictionary with\n",
        "    # five fields each\n",
        "    data = {\n",
        "            'A':[1, 2, 3],\n",
        "            'B':[4, 5, 6],\n",
        "            'C':[7, 8, 9] }\n",
        "     \n",
        "    # Convert the dictionary into DataFrame\n",
        "    df = pd.DataFrame(data)\n",
        "    print(\"Original DataFrame:\\n\", df)\n",
        "     \n",
        "    # applying function to each row in the dataframe\n",
        "    # and storing result in a new column\n",
        "    df['add'] = df.apply(np.sum, axis = 1)\n",
        "  \n",
        "    print('\\nAfter Applying Function: ')\n",
        "    # printing the new dataframe\n",
        "    print(df)\n",
        "  \n",
        "if __name__ == '__main__':\n",
        "    main()"
      ],
      "execution_count": null,
      "outputs": [
        {
          "output_type": "stream",
          "text": [
            "Original DataFrame:\n",
            "    A  B  C\n",
            "0  1  4  7\n",
            "1  2  5  8\n",
            "2  3  6  9\n",
            "\n",
            "After Applying Function: \n",
            "   A  B  C  add\n",
            "0  1  4  7   12\n",
            "1  2  5  8   15\n",
            "2  3  6  9   18\n"
          ],
          "name": "stdout"
        }
      ]
    }
  ]
}